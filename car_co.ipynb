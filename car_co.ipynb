{
 "cells": [
  {
   "cell_type": "code",
   "execution_count": 2,
   "metadata": {},
   "outputs": [
    {
     "name": "stderr",
     "output_type": "stream",
     "text": [
      "Ultralytics YOLOv8.0.26  Python-3.9.0 torch-2.5.1+cpu CPU\n",
      "YOLOv8l summary (fused): 268 layers, 43668288 parameters, 0 gradients, 165.2 GFLOPs\n",
      "\n",
      "0: 384x640 3 cars, 991.6ms\n",
      "Speed: 7.4ms pre-process, 991.6ms inference, 104.2ms postprocess per image at shape (1, 3, 640, 640)\n",
      "\n"
     ]
    },
    {
     "name": "stdout",
     "output_type": "stream",
     "text": [
      "[        571         317         653         430           3]\n",
      "[        459         225         510         271           2]\n",
      "[        378         348         496         460           1]\n"
     ]
    },
    {
     "name": "stderr",
     "output_type": "stream",
     "text": [
      "0: 384x640 3 cars, 723.8ms\n",
      "Speed: 0.0ms pre-process, 723.8ms inference, 1.9ms postprocess per image at shape (1, 3, 640, 640)\n",
      "\n"
     ]
    },
    {
     "name": "stdout",
     "output_type": "stream",
     "text": [
      "[     569.47      322.76      649.53      436.24           3]\n",
      "[     458.01      226.99      507.99      272.01           2]\n",
      "[     373.87      352.13      493.13      465.87           1]\n"
     ]
    },
    {
     "name": "stderr",
     "output_type": "stream",
     "text": [
      "0: 384x640 3 cars, 668.9ms\n",
      "Speed: 1.3ms pre-process, 668.9ms inference, 1.0ms postprocess per image at shape (1, 3, 640, 640)\n",
      "\n"
     ]
    },
    {
     "name": "stdout",
     "output_type": "stream",
     "text": [
      "[     557.58      348.69      647.01      477.84           3]\n",
      "[     450.68      234.65      501.97      280.53           2]\n",
      "[     353.04      370.02      480.61       492.8           1]\n"
     ]
    },
    {
     "name": "stderr",
     "output_type": "stream",
     "text": [
      "0: 384x640 4 cars, 649.7ms\n",
      "Speed: 0.0ms pre-process, 649.7ms inference, 12.9ms postprocess per image at shape (1, 3, 640, 640)\n",
      "\n"
     ]
    },
    {
     "name": "stdout",
     "output_type": "stream",
     "text": [
      "[     534.72      392.94       636.1       534.2           3]\n",
      "[     438.93       243.5      494.48      292.26           2]\n",
      "[     318.71      397.21      460.91      532.61           1]\n"
     ]
    },
    {
     "name": "stderr",
     "output_type": "stream",
     "text": [
      "0: 384x640 4 cars, 644.1ms\n",
      "Speed: 1.0ms pre-process, 644.1ms inference, 1.0ms postprocess per image at shape (1, 3, 640, 640)\n",
      "\n"
     ]
    },
    {
     "name": "stdout",
     "output_type": "stream",
     "text": [
      "[     519.83      433.54      623.34      553.83           3]\n",
      "[     428.12      251.79      486.76      302.76           2]\n",
      "[     289.98      417.67      440.24       548.1           1]\n"
     ]
    },
    {
     "name": "stderr",
     "output_type": "stream",
     "text": [
      "0: 384x640 5 cars, 1 truck, 708.2ms\n",
      "Speed: 1.0ms pre-process, 708.2ms inference, 2.0ms postprocess per image at shape (1, 3, 640, 640)\n",
      "\n"
     ]
    },
    {
     "name": "stdout",
     "output_type": "stream",
     "text": [
      "[     417.53      260.25      479.08      314.06           2]\n",
      "[     268.16      440.49      420.02      553.92           1]\n"
     ]
    },
    {
     "name": "stderr",
     "output_type": "stream",
     "text": [
      "0: 384x640 4 cars, 614.3ms\n",
      "Speed: 0.0ms pre-process, 614.3ms inference, 1.0ms postprocess per image at shape (1, 3, 640, 640)\n",
      "\n"
     ]
    },
    {
     "name": "stdout",
     "output_type": "stream",
     "text": [
      "[     609.92      208.14       662.7      252.14           4]\n",
      "[     405.48       269.5      470.12      325.54           2]\n"
     ]
    },
    {
     "name": "stderr",
     "output_type": "stream",
     "text": [
      "0: 384x640 4 cars, 629.4ms\n",
      "Speed: 0.5ms pre-process, 629.4ms inference, 2.4ms postprocess per image at shape (1, 3, 640, 640)\n",
      "\n"
     ]
    },
    {
     "name": "stdout",
     "output_type": "stream",
     "text": [
      "[     606.45      213.68      663.74      263.69           4]\n",
      "[      392.8      278.73      460.93      337.33           2]\n"
     ]
    },
    {
     "name": "stderr",
     "output_type": "stream",
     "text": [
      "0: 384x640 3 cars, 1 motorcycle, 607.8ms\n",
      "Speed: 0.0ms pre-process, 607.8ms inference, 1.0ms postprocess per image at shape (1, 3, 640, 640)\n",
      "\n"
     ]
    },
    {
     "name": "stdout",
     "output_type": "stream",
     "text": [
      "[      501.4      204.55      546.25       224.2           6]\n",
      "[     602.14      221.78       663.7      277.29           4]\n",
      "[      377.3         289      450.18      351.59           2]\n"
     ]
    },
    {
     "name": "stderr",
     "output_type": "stream",
     "text": [
      "0: 384x640 4 cars, 620.5ms\n",
      "Speed: 0.0ms pre-process, 620.5ms inference, 1.0ms postprocess per image at shape (1, 3, 640, 640)\n",
      "\n"
     ]
    },
    {
     "name": "stdout",
     "output_type": "stream",
     "text": [
      "[     498.04      205.59      544.83      228.18           6]\n",
      "[     598.79      231.14      663.55      290.92           4]\n",
      "[     361.28      300.93      438.45      366.76           2]\n"
     ]
    },
    {
     "name": "stderr",
     "output_type": "stream",
     "text": [
      "0: 384x640 5 cars, 637.7ms\n",
      "Speed: 1.0ms pre-process, 637.7ms inference, 1.0ms postprocess per image at shape (1, 3, 640, 640)\n",
      "\n"
     ]
    },
    {
     "name": "stdout",
     "output_type": "stream",
     "text": [
      "[     493.47      206.12      542.26      231.95           6]\n",
      "[     592.26      242.91      658.53      306.65           4]\n",
      "[     343.34      313.77      426.14      384.59           2]\n"
     ]
    },
    {
     "name": "stderr",
     "output_type": "stream",
     "text": [
      "0: 384x640 4 cars, 625.3ms\n",
      "Speed: 1.0ms pre-process, 625.3ms inference, 1.5ms postprocess per image at shape (1, 3, 640, 640)\n",
      "\n"
     ]
    },
    {
     "name": "stdout",
     "output_type": "stream",
     "text": [
      "[     487.65      206.85       538.8      236.73           6]\n",
      "[     585.16      255.82      654.08      324.08           4]\n",
      "[      323.3      327.38      411.75       402.9           2]\n"
     ]
    },
    {
     "name": "stderr",
     "output_type": "stream",
     "text": [
      "0: 384x640 4 cars, 631.3ms\n",
      "Speed: 0.0ms pre-process, 631.3ms inference, 1.0ms postprocess per image at shape (1, 3, 640, 640)\n",
      "\n"
     ]
    },
    {
     "name": "stdout",
     "output_type": "stream",
     "text": [
      "[     483.01      208.88       534.9      241.99           6]\n",
      "[     577.63      270.26      650.14      344.28           4]\n",
      "[     301.16      343.29      395.95      424.64           2]\n"
     ]
    },
    {
     "name": "stderr",
     "output_type": "stream",
     "text": [
      "0: 384x640 5 cars, 633.1ms\n",
      "Speed: 0.0ms pre-process, 633.1ms inference, 1.0ms postprocess per image at shape (1, 3, 640, 640)\n",
      "\n"
     ]
    },
    {
     "name": "stdout",
     "output_type": "stream",
     "text": [
      "[     569.71      206.77         615      231.96           9]\n",
      "[     477.29      212.68       530.3      248.82           6]\n",
      "[      568.5      285.69      646.55      366.96           4]\n",
      "[     274.82      360.94      377.19      448.69           2]\n"
     ]
    },
    {
     "name": "stderr",
     "output_type": "stream",
     "text": [
      "0: 384x640 5 cars, 1 motorcycle, 669.5ms\n",
      "Speed: 1.1ms pre-process, 669.5ms inference, 2.0ms postprocess per image at shape (1, 3, 640, 640)\n",
      "\n"
     ]
    },
    {
     "name": "stdout",
     "output_type": "stream",
     "text": [
      "[     565.57      208.94      612.27      238.42           9]\n",
      "[     470.87      217.53      524.44      255.76           6]\n",
      "[     557.99      303.12      641.91      392.82           4]\n",
      "[     243.88      380.25       355.8      475.82           2]\n"
     ]
    },
    {
     "name": "stderr",
     "output_type": "stream",
     "text": [
      "0: 384x640 5 cars, 1 motorcycle, 622.8ms\n",
      "Speed: 0.0ms pre-process, 622.8ms inference, 2.0ms postprocess per image at shape (1, 3, 640, 640)\n",
      "\n"
     ]
    },
    {
     "name": "stdout",
     "output_type": "stream",
     "text": [
      "[     561.38      213.46      609.36       246.6           9]\n",
      "[     463.77       223.2      518.59      263.59           6]\n",
      "[     543.06      324.87      631.51      422.82           4]\n",
      "[     208.93      402.95      331.19      506.53           2]\n"
     ]
    },
    {
     "name": "stderr",
     "output_type": "stream",
     "text": [
      "0: 384x640 5 cars, 1 motorcycle, 1 truck, 630.1ms\n",
      "Speed: 0.0ms pre-process, 630.1ms inference, 1.0ms postprocess per image at shape (1, 3, 640, 640)\n",
      "\n"
     ]
    },
    {
     "name": "stdout",
     "output_type": "stream",
     "text": [
      "[     625.98      205.44      662.02      255.58          10]\n",
      "[     556.56      219.85      604.93      256.22           9]\n",
      "[     455.99      228.54      511.86         271           6]\n",
      "[      527.1       349.4      623.08      458.37           4]\n",
      "[     172.29      426.58      303.71      533.56           2]\n"
     ]
    },
    {
     "name": "stderr",
     "output_type": "stream",
     "text": [
      "0: 384x640 6 cars, 2 motorcycles, 637.9ms\n",
      "Speed: 1.1ms pre-process, 637.9ms inference, 1.0ms postprocess per image at shape (1, 3, 640, 640)\n",
      "\n"
     ]
    },
    {
     "name": "stdout",
     "output_type": "stream",
     "text": [
      "[     528.43      267.16      552.34      320.64          11]\n",
      "[     621.77      206.15      662.89      265.68          10]\n",
      "[      551.5      226.99      600.75       266.1           9]\n",
      "[     447.67      235.69      505.14      280.27           6]\n",
      "[     509.14      379.67      616.41      503.06           4]\n",
      "[      150.8      449.76      279.17      548.77           2]\n"
     ]
    },
    {
     "name": "stderr",
     "output_type": "stream",
     "text": [
      "0: 384x640 6 cars, 1 motorcycle, 1 truck, 631.6ms\n",
      "Speed: 0.0ms pre-process, 631.6ms inference, 1.0ms postprocess per image at shape (1, 3, 640, 640)\n",
      "\n"
     ]
    },
    {
     "name": "stdout",
     "output_type": "stream",
     "text": [
      "[     519.03      279.85      543.54      335.38          11]\n",
      "[     617.22      209.99      663.52      278.74          10]\n",
      "[     545.39      234.33      596.29      276.74           9]\n",
      "[     437.26      242.83      497.01      289.56           6]\n",
      "[     486.69      407.47      604.98      534.53           4]\n"
     ]
    },
    {
     "name": "stderr",
     "output_type": "stream",
     "text": [
      "0: 384x640 1 person, 4 cars, 1 motorcycle, 1 truck, 630.4ms\n",
      "Speed: 0.0ms pre-process, 630.4ms inference, 1.0ms postprocess per image at shape (1, 3, 640, 640)\n",
      "\n"
     ]
    },
    {
     "name": "stdout",
     "output_type": "stream",
     "text": [
      "[      509.7      306.87      532.52       356.3          11]\n",
      "[     611.49      218.17      663.03      294.24          10]\n",
      "[     539.11      243.29      592.23      288.75           9]\n",
      "[     426.83      251.63      488.31       299.8           6]\n",
      "[     469.48      441.08      596.75      551.53           4]\n"
     ]
    },
    {
     "name": "stderr",
     "output_type": "stream",
     "text": [
      "0: 384x640 1 person, 4 cars, 1 motorcycle, 1 truck, 638.8ms\n",
      "Speed: 1.0ms pre-process, 638.8ms inference, 2.0ms postprocess per image at shape (1, 3, 640, 640)\n",
      "\n"
     ]
    },
    {
     "name": "stdout",
     "output_type": "stream",
     "text": [
      "[     549.68      205.51       594.9      227.25          14]\n",
      "[     497.33      325.75      521.78      375.67          11]\n",
      "[     606.14      228.41      662.15      310.49          10]\n",
      "[     531.66      252.27      586.77      300.42           9]\n",
      "[     413.95      261.12      478.56      311.61           6]\n"
     ]
    },
    {
     "name": "stderr",
     "output_type": "stream",
     "text": [
      "0: 384x640 1 person, 3 cars, 1 motorcycle, 1 truck, 642.9ms\n",
      "Speed: 1.4ms pre-process, 642.9ms inference, 1.5ms postprocess per image at shape (1, 3, 640, 640)\n",
      "\n"
     ]
    },
    {
     "name": "stdout",
     "output_type": "stream",
     "text": [
      "[     544.88       206.6       593.9      232.96          14]\n",
      "[     482.49      344.99      509.87      398.97          11]\n",
      "[     601.03      240.68      661.75      329.69          10]\n",
      "[     523.58      262.88      581.69      314.29           9]\n",
      "[     398.62      270.89      467.38       324.6           6]\n"
     ]
    },
    {
     "name": "stderr",
     "output_type": "stream",
     "text": [
      "0: 384x640 1 person, 3 cars, 1 motorcycle, 1 truck, 634.9ms\n",
      "Speed: 0.0ms pre-process, 634.9ms inference, 1.0ms postprocess per image at shape (1, 3, 640, 640)\n",
      "\n"
     ]
    },
    {
     "name": "stdout",
     "output_type": "stream",
     "text": [
      "[     540.72      207.06      592.89      238.03          14]\n",
      "[     465.75      370.65      495.24      426.85          11]\n",
      "[     593.75      254.56      661.75      352.29          10]\n",
      "[     513.63      274.71      575.09      329.64           9]\n",
      "[     381.95      282.92      454.79      339.79           6]\n"
     ]
    },
    {
     "name": "stderr",
     "output_type": "stream",
     "text": [
      "0: 384x640 1 person, 3 cars, 1 motorcycle, 1 truck, 679.3ms\n",
      "Speed: 0.0ms pre-process, 679.3ms inference, 1.7ms postprocess per image at shape (1, 3, 640, 640)\n",
      "\n"
     ]
    },
    {
     "name": "stdout",
     "output_type": "stream",
     "text": [
      "[      535.9      210.54      591.27      246.83          14]\n",
      "[     446.21      397.08      479.14      458.43          11]\n",
      "[        584      269.75      660.93      377.31          10]\n",
      "[     502.63       287.7      568.32      346.77           9]\n",
      "[     364.33      296.43      441.52      356.43           6]\n"
     ]
    },
    {
     "name": "stderr",
     "output_type": "stream",
     "text": [
      "0: 384x640 1 person, 3 cars, 1 motorcycle, 1 truck, 632.8ms\n",
      "Speed: 0.0ms pre-process, 632.8ms inference, 2.0ms postprocess per image at shape (1, 3, 640, 640)\n",
      "\n"
     ]
    },
    {
     "name": "stdout",
     "output_type": "stream",
     "text": [
      "[     530.92      215.07      586.61      254.67          14]\n",
      "[     572.11      289.15      655.72      406.03          10]\n",
      "[     489.62      302.38      559.83      365.88           9]\n",
      "[     342.93      312.14      426.22      377.19           6]\n"
     ]
    },
    {
     "name": "stderr",
     "output_type": "stream",
     "text": [
      "0: 384x640 1 person, 4 cars, 1 motorcycle, 1 truck, 642.2ms\n",
      "Speed: 1.0ms pre-process, 642.2ms inference, 1.0ms postprocess per image at shape (1, 3, 640, 640)\n",
      "\n"
     ]
    },
    {
     "name": "stdout",
     "output_type": "stream",
     "text": [
      "[     525.81      221.08      582.37      263.75          14]\n",
      "[     558.89       311.6      651.47      440.47          10]\n",
      "[     475.48      319.25      551.11      388.08           9]\n",
      "[     319.46      329.19      408.89      399.58           6]\n"
     ]
    },
    {
     "name": "stderr",
     "output_type": "stream",
     "text": [
      "0: 384x640 4 cars, 2 trucks, 631.3ms\n",
      "Speed: 0.5ms pre-process, 631.3ms inference, 2.0ms postprocess per image at shape (1, 3, 640, 640)\n",
      "\n"
     ]
    },
    {
     "name": "stdout",
     "output_type": "stream",
     "text": [
      "[     520.52      227.12      577.77      271.66          14]\n",
      "[     538.71      338.09      640.19      480.64          10]\n",
      "[     458.33      338.23      540.34      413.35           9]\n",
      "[     289.67      349.69      387.23      426.77           6]\n"
     ]
    },
    {
     "name": "stderr",
     "output_type": "stream",
     "text": [
      "0: 384x640 3 cars, 2 trucks, 628.7ms\n",
      "Speed: 0.0ms pre-process, 628.7ms inference, 1.0ms postprocess per image at shape (1, 3, 640, 640)\n",
      "\n"
     ]
    },
    {
     "name": "stdout",
     "output_type": "stream",
     "text": [
      "[     514.35      235.11       573.2      282.55          14]\n",
      "[     517.13      367.88      628.48      522.95          10]\n",
      "[     438.65      360.48      527.62       442.5           9]\n",
      "[     257.46      373.58      362.75      458.21           6]\n"
     ]
    },
    {
     "name": "stderr",
     "output_type": "stream",
     "text": [
      "0: 384x640 4 cars, 1 bus, 1 truck, 624.5ms\n",
      "Speed: 1.0ms pre-process, 624.5ms inference, 1.0ms postprocess per image at shape (1, 3, 640, 640)\n",
      "\n"
     ]
    },
    {
     "name": "stdout",
     "output_type": "stream",
     "text": [
      "[     500.02      205.77      543.85      231.99          18]\n",
      "[     507.14      243.45      568.03      294.18          14]\n",
      "[     498.32      396.03      621.32      545.71          10]\n",
      "[     414.56      385.92      512.41      476.96           9]\n",
      "[     216.56      401.24      332.62      495.21           6]\n"
     ]
    },
    {
     "name": "stderr",
     "output_type": "stream",
     "text": [
      "0: 384x640 4 cars, 1 truck, 646.6ms\n",
      "Speed: 0.0ms pre-process, 646.6ms inference, 1.0ms postprocess per image at shape (1, 3, 640, 640)\n",
      "\n"
     ]
    },
    {
     "name": "stdout",
     "output_type": "stream",
     "text": [
      "[     492.85      206.99      538.58      237.01          18]\n",
      "[     499.05      252.29      562.51      306.31          14]\n",
      "[     480.09      434.03       615.1      557.78          10]\n",
      "[      385.9      415.87      494.67      517.22           9]\n",
      "[     174.85      430.53      298.66      528.11           6]\n"
     ]
    },
    {
     "name": "stderr",
     "output_type": "stream",
     "text": [
      "0: 384x640 4 cars, 691.7ms\n",
      "Speed: 1.0ms pre-process, 691.7ms inference, 1.0ms postprocess per image at shape (1, 3, 640, 640)\n",
      "\n"
     ]
    },
    {
     "name": "stdout",
     "output_type": "stream",
     "text": [
      "[     485.89      211.51      532.49      244.47          18]\n",
      "[     489.86      262.16      556.32      319.75          14]\n",
      "[     355.66      443.46      473.94      540.03           9]\n"
     ]
    },
    {
     "name": "stderr",
     "output_type": "stream",
     "text": [
      "0: 384x640 3 cars, 717.5ms\n",
      "Speed: 1.0ms pre-process, 717.5ms inference, 1.0ms postprocess per image at shape (1, 3, 640, 640)\n",
      "\n"
     ]
    },
    {
     "name": "stdout",
     "output_type": "stream",
     "text": [
      "[     478.93      216.15      527.68      252.07          18]\n",
      "[      479.2      272.47      549.64       334.2          14]\n"
     ]
    },
    {
     "name": "stderr",
     "output_type": "stream",
     "text": [
      "0: 384x640 2 cars, 628.2ms\n",
      "Speed: 1.0ms pre-process, 628.2ms inference, 1.0ms postprocess per image at shape (1, 3, 640, 640)\n",
      "\n"
     ]
    },
    {
     "name": "stdout",
     "output_type": "stream",
     "text": [
      "[     471.07         223      520.76      260.98          18]\n",
      "[     467.44      284.38       541.4      349.55          14]\n"
     ]
    },
    {
     "name": "stderr",
     "output_type": "stream",
     "text": [
      "0: 384x640 2 cars, 649.1ms\n",
      "Speed: 1.0ms pre-process, 649.1ms inference, 1.0ms postprocess per image at shape (1, 3, 640, 640)\n",
      "\n"
     ]
    },
    {
     "name": "stdout",
     "output_type": "stream",
     "text": [
      "[     462.16       229.5      513.87      270.01          18]\n",
      "[     452.81      298.23      531.76       367.8          14]\n"
     ]
    },
    {
     "name": "stderr",
     "output_type": "stream",
     "text": [
      "0: 384x640 2 cars, 642.0ms\n",
      "Speed: 1.0ms pre-process, 642.0ms inference, 2.0ms postprocess per image at shape (1, 3, 640, 640)\n",
      "\n"
     ]
    },
    {
     "name": "stdout",
     "output_type": "stream",
     "text": [
      "[      453.1      236.74      506.13      278.84          18]\n",
      "[     437.66       312.9      521.74      387.64          14]\n"
     ]
    },
    {
     "name": "stderr",
     "output_type": "stream",
     "text": [
      "0: 384x640 3 cars, 645.6ms\n",
      "Speed: 0.0ms pre-process, 645.6ms inference, 0.9ms postprocess per image at shape (1, 3, 640, 640)\n",
      "\n"
     ]
    },
    {
     "name": "stdout",
     "output_type": "stream",
     "text": [
      "[     442.36      244.96      497.73      289.54          18]\n",
      "[     420.21      330.47      510.44      411.35          14]\n"
     ]
    },
    {
     "name": "stderr",
     "output_type": "stream",
     "text": [
      "0: 384x640 3 cars, 640.6ms\n",
      "Speed: 1.0ms pre-process, 640.6ms inference, 1.0ms postprocess per image at shape (1, 3, 640, 640)\n",
      "\n"
     ]
    },
    {
     "name": "stdout",
     "output_type": "stream",
     "text": [
      "[     430.33       254.4      488.48      301.35          18]\n",
      "[     399.91      350.78      497.42      439.38          14]\n"
     ]
    },
    {
     "name": "stderr",
     "output_type": "stream",
     "text": [
      "0: 384x640 3 cars, 633.3ms\n",
      "Speed: 0.0ms pre-process, 633.3ms inference, 1.0ms postprocess per image at shape (1, 3, 640, 640)\n",
      "\n"
     ]
    },
    {
     "name": "stdout",
     "output_type": "stream",
     "text": [
      "[     417.09       264.3      478.34      313.52          18]\n",
      "[      375.6      373.44      482.14       471.6          14]\n"
     ]
    },
    {
     "name": "stderr",
     "output_type": "stream",
     "text": [
      "0: 384x640 3 cars, 650.3ms\n",
      "Speed: 0.0ms pre-process, 650.3ms inference, 1.0ms postprocess per image at shape (1, 3, 640, 640)\n",
      "\n"
     ]
    },
    {
     "name": "stdout",
     "output_type": "stream",
     "text": [
      "[     615.32      205.96      658.51      239.37          20]\n",
      "[     401.34      275.86         466      327.59          18]\n",
      "[     346.07      399.28       463.9      509.55          14]\n"
     ]
    },
    {
     "name": "stderr",
     "output_type": "stream",
     "text": [
      "0: 384x640 3 cars, 672.6ms\n",
      "Speed: 1.0ms pre-process, 672.6ms inference, 1.0ms postprocess per image at shape (1, 3, 640, 640)\n",
      "\n"
     ]
    },
    {
     "name": "stdout",
     "output_type": "stream",
     "text": [
      "[     613.18       209.6      659.83      249.58          20]\n",
      "[     383.82      287.44      453.08      342.27          18]\n",
      "[     311.73      424.34       440.9      535.83          14]\n"
     ]
    },
    {
     "name": "stderr",
     "output_type": "stream",
     "text": [
      "0: 384x640 4 cars, 656.5ms\n",
      "Speed: 1.0ms pre-process, 656.5ms inference, 1.0ms postprocess per image at shape (1, 3, 640, 640)\n",
      "\n"
     ]
    },
    {
     "name": "stdout",
     "output_type": "stream",
     "text": [
      "[     610.58      215.54      659.25      260.83          20]\n",
      "[     364.62       301.1      439.02      359.67          18]\n",
      "[     278.04      451.74      418.31       549.1          14]\n"
     ]
    },
    {
     "name": "stderr",
     "output_type": "stream",
     "text": [
      "0: 384x640 4 cars, 643.0ms\n",
      "Speed: 0.0ms pre-process, 643.0ms inference, 2.1ms postprocess per image at shape (1, 3, 640, 640)\n",
      "\n"
     ]
    },
    {
     "name": "stdout",
     "output_type": "stream",
     "text": [
      "[     608.71      222.54      658.68      271.93          20]\n",
      "[     342.09      316.26      422.05      379.29          18]\n"
     ]
    },
    {
     "name": "stderr",
     "output_type": "stream",
     "text": [
      "0: 384x640 3 cars, 642.3ms\n",
      "Speed: 1.0ms pre-process, 642.3ms inference, 1.0ms postprocess per image at shape (1, 3, 640, 640)\n",
      "\n"
     ]
    },
    {
     "name": "stdout",
     "output_type": "stream",
     "text": [
      "[     605.76      230.87      659.46      285.39          20]\n",
      "[     316.71      334.27         403      402.01          18]\n"
     ]
    },
    {
     "name": "stderr",
     "output_type": "stream",
     "text": [
      "0: 384x640 4 cars, 646.0ms\n",
      "Speed: 0.5ms pre-process, 646.0ms inference, 2.5ms postprocess per image at shape (1, 3, 640, 640)\n",
      "\n"
     ]
    },
    {
     "name": "stdout",
     "output_type": "stream",
     "text": [
      "[     510.03      203.63      545.12      219.34          21]\n",
      "[     602.26      241.36      660.88      300.63          20]\n",
      "[     287.19       354.9      381.08       428.2          18]\n"
     ]
    },
    {
     "name": "stderr",
     "output_type": "stream",
     "text": [
      "0: 384x640 4 cars, 635.6ms\n",
      "Speed: 0.5ms pre-process, 635.6ms inference, 1.0ms postprocess per image at shape (1, 3, 640, 640)\n",
      "\n"
     ]
    },
    {
     "name": "stdout",
     "output_type": "stream",
     "text": [
      "[     508.07      204.01      544.65      221.79          21]\n",
      "[     594.08      253.62      654.13      316.77          20]\n"
     ]
    },
    {
     "name": "stderr",
     "output_type": "stream",
     "text": [
      "0: 384x640 4 cars, 643.3ms\n",
      "Speed: 0.0ms pre-process, 643.3ms inference, 0.5ms postprocess per image at shape (1, 3, 640, 640)\n",
      "\n"
     ]
    },
    {
     "name": "stdout",
     "output_type": "stream",
     "text": [
      "[     505.22      204.36      543.21      224.43          21]\n",
      "[     587.91      267.16      652.21      335.19          20]\n"
     ]
    },
    {
     "name": "stderr",
     "output_type": "stream",
     "text": [
      "0: 384x640 4 cars, 646.0ms\n",
      "Speed: 1.0ms pre-process, 646.0ms inference, 1.0ms postprocess per image at shape (1, 3, 640, 640)\n",
      "\n"
     ]
    },
    {
     "name": "stdout",
     "output_type": "stream",
     "text": [
      "[     620.14      206.37      658.78      230.54          23]\n",
      "[     503.04      204.59      542.68      227.22          21]\n",
      "[     580.12      282.92      647.13      356.61          20]\n"
     ]
    },
    {
     "name": "stderr",
     "output_type": "stream",
     "text": [
      "0: 384x640 4 cars, 617.7ms\n",
      "Speed: 0.0ms pre-process, 617.7ms inference, 1.0ms postprocess per image at shape (1, 3, 640, 640)\n",
      "\n"
     ]
    },
    {
     "name": "stdout",
     "output_type": "stream",
     "text": [
      "[     618.45      207.45      659.97      237.04          23]\n",
      "[     501.42      205.38      541.41      230.16          21]\n",
      "[     570.06      301.59      641.25      382.29          20]\n"
     ]
    },
    {
     "name": "stderr",
     "output_type": "stream",
     "text": [
      "0: 384x640 3 cars, 680.0ms\n",
      "Speed: 1.0ms pre-process, 680.0ms inference, 1.5ms postprocess per image at shape (1, 3, 640, 640)\n",
      "\n"
     ]
    },
    {
     "name": "stdout",
     "output_type": "stream",
     "text": [
      "[     616.79      208.03      661.58      243.69          23]\n",
      "[     499.67      205.81      540.22         233          21]\n",
      "[     560.25      322.13      636.69       411.3          20]\n"
     ]
    },
    {
     "name": "stderr",
     "output_type": "stream",
     "text": [
      "0: 384x640 3 cars, 634.3ms\n",
      "Speed: 0.0ms pre-process, 634.3ms inference, 1.0ms postprocess per image at shape (1, 3, 640, 640)\n",
      "\n"
     ]
    },
    {
     "name": "stdout",
     "output_type": "stream",
     "text": [
      "[     614.81      210.53      661.48      251.87          23]\n",
      "[     497.25      206.53      538.31      236.06          21]\n",
      "[     546.95      347.31      630.31      446.74          20]\n"
     ]
    },
    {
     "name": "stderr",
     "output_type": "stream",
     "text": [
      "0: 384x640 3 cars, 631.8ms\n",
      "Speed: 0.0ms pre-process, 631.8ms inference, 1.0ms postprocess per image at shape (1, 3, 640, 640)\n",
      "\n"
     ]
    },
    {
     "name": "stdout",
     "output_type": "stream",
     "text": [
      "[     613.11      216.33      661.83      262.02          23]\n",
      "[     494.63      208.54      536.11      240.04          21]\n",
      "[     531.67      378.02      625.27      491.23          20]\n"
     ]
    },
    {
     "name": "stderr",
     "output_type": "stream",
     "text": [
      "0: 384x640 4 cars, 632.8ms\n",
      "Speed: 1.0ms pre-process, 632.8ms inference, 2.0ms postprocess per image at shape (1, 3, 640, 640)\n",
      "\n"
     ]
    },
    {
     "name": "stdout",
     "output_type": "stream",
     "text": [
      "[     612.09      222.72      662.42      271.97          23]\n",
      "[     491.98      211.36      533.75      243.99          21]\n",
      "[      511.2      408.81      612.75      527.78          20]\n"
     ]
    },
    {
     "name": "stderr",
     "output_type": "stream",
     "text": [
      "0: 384x640 4 cars, 638.1ms\n",
      "Speed: 0.0ms pre-process, 638.1ms inference, 2.0ms postprocess per image at shape (1, 3, 640, 640)\n",
      "\n"
     ]
    },
    {
     "name": "stdout",
     "output_type": "stream",
     "text": [
      "[     608.71      230.73      662.33      283.76          23]\n",
      "[     489.17      214.04      531.51      248.35          21]\n",
      "[     490.64      445.96      602.17      548.29          20]\n"
     ]
    },
    {
     "name": "stderr",
     "output_type": "stream",
     "text": [
      "0: 384x640 4 cars, 636.7ms\n",
      "Speed: 0.0ms pre-process, 636.7ms inference, 1.0ms postprocess per image at shape (1, 3, 640, 640)\n",
      "\n"
     ]
    },
    {
     "name": "stdout",
     "output_type": "stream",
     "text": [
      "[     604.98      239.81      662.13      297.01          23]\n",
      "[     486.33      216.87      529.29      252.66          21]\n"
     ]
    },
    {
     "name": "stderr",
     "output_type": "stream",
     "text": [
      "0: 384x640 5 cars, 639.5ms\n",
      "Speed: 1.0ms pre-process, 639.5ms inference, 2.0ms postprocess per image at shape (1, 3, 640, 640)\n",
      "\n"
     ]
    },
    {
     "name": "stdout",
     "output_type": "stream",
     "text": [
      "[     628.44      206.11      664.84      247.84          25]\n",
      "[     601.37       250.1      661.01      310.57          23]\n",
      "[      482.8      220.43      526.43      257.57          21]\n"
     ]
    },
    {
     "name": "stderr",
     "output_type": "stream",
     "text": [
      "0: 384x640 6 cars, 644.7ms\n",
      "Speed: 1.0ms pre-process, 644.7ms inference, 2.0ms postprocess per image at shape (1, 3, 640, 640)\n",
      "\n"
     ]
    },
    {
     "name": "stdout",
     "output_type": "stream",
     "text": [
      "[     625.28      210.44      662.94      257.22          25]\n",
      "[     593.31      261.78      655.42      326.57          23]\n",
      "[     478.87      224.59      522.82      262.35          21]\n"
     ]
    },
    {
     "name": "stderr",
     "output_type": "stream",
     "text": [
      "0: 384x640 7 cars, 631.4ms\n",
      "Speed: 1.0ms pre-process, 631.4ms inference, 1.0ms postprocess per image at shape (1, 3, 640, 640)\n",
      "\n"
     ]
    },
    {
     "name": "stdout",
     "output_type": "stream",
     "text": [
      "[     567.39      205.94      613.81      233.43          26]\n",
      "[     623.58      215.66       662.4      265.37          25]\n",
      "[     587.44      274.11      652.29       342.6          23]\n",
      "[     474.61      228.65      519.79      268.08          21]\n"
     ]
    },
    {
     "name": "stderr",
     "output_type": "stream",
     "text": [
      "0: 384x640 5 cars, 676.3ms\n",
      "Speed: 1.0ms pre-process, 676.3ms inference, 1.0ms postprocess per image at shape (1, 3, 640, 640)\n",
      "\n"
     ]
    },
    {
     "name": "stdout",
     "output_type": "stream",
     "text": [
      "[     562.13      205.89      612.06      238.52          26]\n",
      "[     620.05      221.32      663.15      275.79          25]\n",
      "[     579.92      288.22      647.33      361.01          23]\n",
      "[     469.67      232.57      516.88      273.56          21]\n"
     ]
    },
    {
     "name": "stderr",
     "output_type": "stream",
     "text": [
      "0: 384x640 5 cars, 632.7ms\n",
      "Speed: 0.0ms pre-process, 632.7ms inference, 1.0ms postprocess per image at shape (1, 3, 640, 640)\n",
      "\n"
     ]
    },
    {
     "name": "stdout",
     "output_type": "stream",
     "text": [
      "[     509.53      203.62      546.17      220.23          28]\n",
      "[      556.2      209.13      608.75      246.88          26]\n",
      "[     617.44      228.74       664.2      287.39          25]\n",
      "[     571.25       304.3       644.2      384.22          23]\n",
      "[     464.32      237.67      512.88      279.69          21]\n"
     ]
    },
    {
     "name": "stderr",
     "output_type": "stream",
     "text": [
      "0: 384x640 5 cars, 641.4ms\n",
      "Speed: 1.0ms pre-process, 641.4ms inference, 1.0ms postprocess per image at shape (1, 3, 640, 640)\n",
      "\n"
     ]
    },
    {
     "name": "stdout",
     "output_type": "stream",
     "text": [
      "[     506.67      203.95      545.67      222.89          28]\n",
      "[      551.3      214.45      605.17      255.84          26]\n",
      "[     614.92      236.35      665.59      298.39          25]\n",
      "[     560.82         323      639.19      410.57          23]\n",
      "[     457.88      242.67      508.09      286.59          21]\n"
     ]
    },
    {
     "name": "stderr",
     "output_type": "stream",
     "text": [
      "0: 384x640 5 cars, 652.0ms\n",
      "Speed: 1.0ms pre-process, 652.0ms inference, 1.0ms postprocess per image at shape (1, 3, 640, 640)\n",
      "\n"
     ]
    },
    {
     "name": "stdout",
     "output_type": "stream",
     "text": [
      "[     504.35      204.21      545.59      225.66          28]\n",
      "[     546.41      221.03      601.16      265.74          26]\n",
      "[     609.54       244.6      664.53      310.57          25]\n",
      "[     546.32      344.59      630.99      440.71          23]\n",
      "[     451.27      248.05      503.43      293.35          21]\n"
     ]
    },
    {
     "name": "stderr",
     "output_type": "stream",
     "text": [
      "0: 384x640 6 cars, 632.0ms\n",
      "Speed: 2.0ms pre-process, 632.0ms inference, 1.0ms postprocess per image at shape (1, 3, 640, 640)\n",
      "\n"
     ]
    },
    {
     "name": "stdout",
     "output_type": "stream",
     "text": [
      "[      501.9      205.06      543.79      228.54          28]\n",
      "[     540.04      227.02      596.45      274.84          26]\n",
      "[     605.08      254.68      663.35      324.91          25]\n",
      "[     530.11      370.48      623.12       477.5          23]\n",
      "[     443.67      253.37      497.82      300.23          21]\n"
     ]
    },
    {
     "name": "stderr",
     "output_type": "stream",
     "text": [
      "0: 384x640 7 cars, 1 truck, 633.7ms\n",
      "Speed: 2.0ms pre-process, 633.7ms inference, 1.6ms postprocess per image at shape (1, 3, 640, 640)\n",
      "\n"
     ]
    },
    {
     "name": "stdout",
     "output_type": "stream",
     "text": [
      "[     499.69      205.74      542.54      231.83          28]\n",
      "[     533.38      235.47      591.95      287.04          26]\n",
      "[     598.63      265.77      662.47      341.63          25]\n",
      "[     509.73      400.07      613.06      518.54          23]\n",
      "[      435.2      259.46      491.69      308.33          21]\n"
     ]
    },
    {
     "name": "stderr",
     "output_type": "stream",
     "text": [
      "0: 384x640 7 cars, 635.0ms\n",
      "Speed: 1.2ms pre-process, 635.0ms inference, 1.0ms postprocess per image at shape (1, 3, 640, 640)\n",
      "\n"
     ]
    },
    {
     "name": "stdout",
     "output_type": "stream",
     "text": [
      "[     496.71      206.46      540.99      235.14          28]\n",
      "[     523.14      244.89      584.98      300.22          26]\n",
      "[     591.62      277.29      659.56      358.48          25]\n",
      "[     485.68      428.72      600.39      541.13          23]\n",
      "[     425.76      266.71      484.73       317.3          21]\n"
     ]
    },
    {
     "name": "stderr",
     "output_type": "stream",
     "text": [
      "0: 384x640 7 cars, 1 truck, 630.4ms\n",
      "Speed: 1.0ms pre-process, 630.4ms inference, 1.0ms postprocess per image at shape (1, 3, 640, 640)\n",
      "\n"
     ]
    },
    {
     "name": "stdout",
     "output_type": "stream",
     "text": [
      "[      576.6      206.07      620.03      231.77          30]\n",
      "[     494.13      208.53      538.66      239.15          28]\n",
      "[     513.25      254.85      577.48      313.52          26]\n",
      "[     582.83      292.21      655.49      379.34          25]\n",
      "[      468.7      466.18      593.41         554          23]\n",
      "[     414.75      274.12      476.71      326.85          21]\n"
     ]
    },
    {
     "name": "stderr",
     "output_type": "stream",
     "text": [
      "0: 384x640 5 cars, 1 truck, 645.8ms\n",
      "Speed: 0.0ms pre-process, 645.8ms inference, 1.0ms postprocess per image at shape (1, 3, 640, 640)\n",
      "\n"
     ]
    },
    {
     "name": "stdout",
     "output_type": "stream",
     "text": [
      "[     626.86      206.21      663.78      235.69          31]\n",
      "[     572.92      209.58      618.11      239.16          30]\n",
      "[     491.01      211.54      536.06      243.62          28]\n",
      "[     500.69      267.49       569.3      330.95          26]\n",
      "[     574.45      307.89      654.59      402.81          25]\n",
      "[     403.12      282.01      468.35      336.85          21]\n"
     ]
    },
    {
     "name": "stderr",
     "output_type": "stream",
     "text": [
      "0: 384x640 6 cars, 1 truck, 683.1ms\n",
      "Speed: 1.0ms pre-process, 683.1ms inference, 1.0ms postprocess per image at shape (1, 3, 640, 640)\n",
      "\n"
     ]
    },
    {
     "name": "stdout",
     "output_type": "stream",
     "text": [
      "[     624.57      207.55      663.95       242.1          31]\n",
      "[     568.64      213.96      615.01      246.68          30]\n",
      "[     488.07      213.88      533.69      247.25          28]\n",
      "[     487.66      280.52       560.4      348.49          26]\n",
      "[      561.7      327.93      647.56      431.68          25]\n",
      "[     390.36      290.25      458.83      347.47          21]\n"
     ]
    },
    {
     "name": "stderr",
     "output_type": "stream",
     "text": [
      "0: 384x640 5 cars, 1 truck, 643.3ms\n",
      "Speed: 1.0ms pre-process, 643.3ms inference, 1.5ms postprocess per image at shape (1, 3, 640, 640)\n",
      "\n"
     ]
    },
    {
     "name": "stdout",
     "output_type": "stream",
     "text": [
      "[     620.67      208.56      662.92      248.35          31]\n",
      "[     564.86      219.36      612.32      254.85          30]\n",
      "[     484.02      217.28      530.58       251.9          28]\n",
      "[     472.27      295.47      550.16      368.84          26]\n",
      "[     546.35      351.33      637.91      465.36          25]\n",
      "[     376.07      300.53      448.03      360.32          21]\n"
     ]
    },
    {
     "name": "stderr",
     "output_type": "stream",
     "text": [
      "0: 384x640 5 cars, 1 truck, 632.0ms\n",
      "Speed: 1.0ms pre-process, 632.0ms inference, 1.0ms postprocess per image at shape (1, 3, 640, 640)\n",
      "\n"
     ]
    },
    {
     "name": "stdout",
     "output_type": "stream",
     "text": [
      "[     617.93      212.55      662.04      257.15          31]\n",
      "[     559.89      225.27      609.03      263.71          30]\n",
      "[     480.13      221.27      527.96      257.38          28]\n",
      "[     453.47      312.29      538.04      392.98          26]\n",
      "[        530       378.2      630.63      505.11          25]\n",
      "[     359.78      311.49      436.26      374.07          21]\n"
     ]
    },
    {
     "name": "stderr",
     "output_type": "stream",
     "text": [
      "0: 384x640 5 cars, 2 trucks, 623.8ms\n",
      "Speed: 1.0ms pre-process, 623.8ms inference, 2.0ms postprocess per image at shape (1, 3, 640, 640)\n",
      "\n"
     ]
    },
    {
     "name": "stdout",
     "output_type": "stream",
     "text": [
      "[     615.76      217.37      662.42      266.22          31]\n",
      "[     553.55      233.09      603.77      273.75          30]\n",
      "[     475.48      225.76      524.38      262.88          28]\n",
      "[     431.48      333.23      523.89      422.28          26]\n",
      "[     511.61      404.15      623.35      534.15          25]\n",
      "[     341.93      323.44         423      390.02          21]\n"
     ]
    },
    {
     "name": "stderr",
     "output_type": "stream",
     "text": [
      "0: 384x640 5 cars, 2 trucks, 622.1ms\n",
      "Speed: 0.0ms pre-process, 622.1ms inference, 2.0ms postprocess per image at shape (1, 3, 640, 640)\n",
      "\n"
     ]
    },
    {
     "name": "stdout",
     "output_type": "stream",
     "text": [
      "[     613.98      222.72      663.03      275.07          31]\n",
      "[     547.25      242.24      599.34      284.88          30]\n",
      "[     470.21      230.16      520.79      268.63          28]\n",
      "[     404.63      357.48      506.81      456.93          26]\n",
      "[      496.4      434.39      617.42       549.8          25]\n",
      "[     321.54      336.26       407.9      406.92          21]\n"
     ]
    },
    {
     "name": "stderr",
     "output_type": "stream",
     "text": [
      "0: 384x640 5 cars, 1 truck, 652.3ms\n",
      "Speed: 1.0ms pre-process, 652.3ms inference, 1.0ms postprocess per image at shape (1, 3, 640, 640)\n",
      "\n"
     ]
    },
    {
     "name": "stdout",
     "output_type": "stream",
     "text": [
      "[     610.94      230.39      662.39      285.73          31]\n",
      "[     539.89       251.8      594.32      297.08          30]\n",
      "[     464.75      235.18       516.5      275.12          28]\n",
      "[     371.16      385.97       485.6       497.7          26]\n",
      "[     299.37      350.58      391.67      426.23          21]\n"
     ]
    },
    {
     "name": "stderr",
     "output_type": "stream",
     "text": [
      "0: 384x640 5 cars, 1 truck, 680.4ms\n",
      "Speed: 0.0ms pre-process, 680.4ms inference, 2.0ms postprocess per image at shape (1, 3, 640, 640)\n",
      "\n"
     ]
    },
    {
     "name": "stdout",
     "output_type": "stream",
     "text": [
      "[     607.35      238.49      662.73      297.41          31]\n",
      "[     530.11      263.26      588.46      311.87          30]\n",
      "[     458.06      239.67      511.83      281.32          28]\n",
      "[     331.28      414.42      458.34       530.5          26]\n",
      "[     273.69      366.92      373.33      448.88          21]\n"
     ]
    },
    {
     "name": "stderr",
     "output_type": "stream",
     "text": [
      "0: 384x640 7 cars, 2 trucks, 713.4ms\n",
      "Speed: 1.0ms pre-process, 713.4ms inference, 2.0ms postprocess per image at shape (1, 3, 640, 640)\n",
      "\n"
     ]
    },
    {
     "name": "stdout",
     "output_type": "stream",
     "text": [
      "[     602.03      247.31      660.96       309.5          31]\n",
      "[     521.04      274.82      582.71      326.83          30]\n",
      "[     451.07      245.27      506.86      288.71          28]\n",
      "[     290.77      449.44       430.4      548.98          26]\n",
      "[     244.93      385.25      352.09      473.47          21]\n"
     ]
    },
    {
     "name": "stderr",
     "output_type": "stream",
     "text": [
      "0: 384x640 6 cars, 1 truck, 676.1ms\n",
      "Speed: 0.0ms pre-process, 676.1ms inference, 1.0ms postprocess per image at shape (1, 3, 640, 640)\n",
      "\n"
     ]
    },
    {
     "name": "stdout",
     "output_type": "stream",
     "text": [
      "[     595.14      257.98      657.34      324.78          31]\n",
      "[     510.19      287.77      575.78      343.76          30]\n",
      "[     443.05      252.38      501.39      297.41          28]\n",
      "[     212.85      406.77      328.71      502.18          21]\n"
     ]
    },
    {
     "name": "stderr",
     "output_type": "stream",
     "text": [
      "0: 384x640 7 cars, 691.7ms\n",
      "Speed: 1.1ms pre-process, 691.7ms inference, 1.3ms postprocess per image at shape (1, 3, 640, 640)\n",
      "\n"
     ]
    },
    {
     "name": "stdout",
     "output_type": "stream",
     "text": [
      "[     568.87      205.81      610.63      227.31          36]\n",
      "[     587.73       269.6      653.67      340.91          31]\n",
      "[     497.01      303.54      567.45      363.67          30]\n",
      "[     434.12      258.68      494.97      305.99          28]\n",
      "[     176.55      428.35      301.69      528.95          21]\n"
     ]
    },
    {
     "name": "stderr",
     "output_type": "stream",
     "text": [
      "0: 384x640 7 cars, 677.5ms\n",
      "Speed: 0.0ms pre-process, 677.5ms inference, 2.0ms postprocess per image at shape (1, 3, 640, 640)\n",
      "\n"
     ]
    },
    {
     "name": "stdout",
     "output_type": "stream",
     "text": [
      "[     639.47      210.42      663.96      238.97          38]\n",
      "[     564.28      207.92      608.87      233.39          36]\n",
      "[     579.75      282.12      649.07      357.41          31]\n",
      "[     481.24      322.22      557.07      387.41          30]\n",
      "[     424.51      266.43       487.9      315.37          28]\n",
      "[     154.78      449.86       278.8      543.92          21]\n"
     ]
    },
    {
     "name": "stderr",
     "output_type": "stream",
     "text": [
      "0: 384x640 6 cars, 674.4ms\n",
      "Speed: 0.0ms pre-process, 674.4ms inference, 1.5ms postprocess per image at shape (1, 3, 640, 640)\n",
      "\n"
     ]
    },
    {
     "name": "stdout",
     "output_type": "stream",
     "text": [
      "[     638.79      217.54      661.27      246.74          38]\n",
      "[     561.07      211.63      605.97      239.31          36]\n",
      "[     570.44      298.39      643.94      379.81          31]\n",
      "[     462.51      343.86      545.32      415.24          30]\n",
      "[      413.6      274.21      480.35      325.54          28]\n"
     ]
    },
    {
     "name": "stderr",
     "output_type": "stream",
     "text": [
      "0: 384x640 6 cars, 689.8ms\n",
      "Speed: 1.0ms pre-process, 689.8ms inference, 1.0ms postprocess per image at shape (1, 3, 640, 640)\n",
      "\n"
     ]
    },
    {
     "name": "stdout",
     "output_type": "stream",
     "text": [
      "[     524.07      203.49      561.45      219.57          40]\n",
      "[      638.8      221.59      660.38      252.73          38]\n",
      "[     556.53      216.17      602.33      246.93          36]\n",
      "[     560.66      316.87      639.29      406.85          31]\n",
      "[     440.08      369.52      531.76      448.83          30]\n",
      "[     401.24      283.86      471.63      338.06          28]\n"
     ]
    },
    {
     "name": "stderr",
     "output_type": "stream",
     "text": [
      "0: 384x640 6 cars, 652.2ms\n",
      "Speed: 1.0ms pre-process, 652.2ms inference, 1.0ms postprocess per image at shape (1, 3, 640, 640)\n"
     ]
    },
    {
     "name": "stdout",
     "output_type": "stream",
     "text": [
      "[     522.63      204.05      561.93      222.39          40]\n",
      "[     637.85      227.62      659.74      261.67          38]\n",
      "[     552.76       221.4      599.34      254.66          36]\n",
      "[     547.65      336.94      631.98      436.09          31]\n",
      "[     411.79      400.48      514.84      490.53          30]\n",
      "[     387.27      293.56       461.6      350.13          28]\n"
     ]
    },
    {
     "name": "stderr",
     "output_type": "stream",
     "text": [
      "\n",
      "0: 384x640 6 cars, 795.5ms\n",
      "Speed: 2.0ms pre-process, 795.5ms inference, 2.5ms postprocess per image at shape (1, 3, 640, 640)\n",
      "\n"
     ]
    },
    {
     "name": "stdout",
     "output_type": "stream",
     "text": [
      "[     521.29      205.02      561.46      225.33          40]\n",
      "[     636.43      233.12      662.13      271.35          38]\n",
      "[     547.24      227.78      595.19      263.52          36]\n",
      "[     533.48      360.64      625.63      470.92          31]\n",
      "[     377.43      433.64      492.72      527.77          30]\n",
      "[     371.74      304.57      450.11      363.98          28]\n"
     ]
    },
    {
     "name": "stderr",
     "output_type": "stream",
     "text": [
      "0: 384x640 6 cars, 657.0ms\n",
      "Speed: 1.0ms pre-process, 657.0ms inference, 1.0ms postprocess per image at shape (1, 3, 640, 640)\n",
      "\n"
     ]
    },
    {
     "name": "stdout",
     "output_type": "stream",
     "text": [
      "[     519.66      205.31      561.05      227.67          40]\n",
      "[     634.17      240.32      664.14      282.79          38]\n",
      "[     541.62      234.92      590.79      272.37          36]\n",
      "[     514.64      389.53      616.03      512.44          31]\n",
      "[     345.95      469.95      472.09      547.08          30]\n",
      "[     353.68      317.58      437.42      380.87          28]\n"
     ]
    },
    {
     "name": "stderr",
     "output_type": "stream",
     "text": [
      "0: 384x640 6 cars, 627.7ms\n",
      "Speed: 1.0ms pre-process, 627.7ms inference, 2.0ms postprocess per image at shape (1, 3, 640, 640)\n",
      "\n"
     ]
    },
    {
     "name": "stdout",
     "output_type": "stream",
     "text": [
      "[     517.93      206.06      560.69      230.51          40]\n",
      "[     631.24      248.58      666.38      295.02          38]\n",
      "[     535.13      242.32      585.81      281.87          36]\n",
      "[      494.4      415.82      604.25      537.35          31]\n",
      "[     334.16      331.68      423.53      399.21          28]\n"
     ]
    },
    {
     "name": "stderr",
     "output_type": "stream",
     "text": [
      "0: 384x640 7 cars, 647.3ms\n",
      "Speed: 0.0ms pre-process, 647.3ms inference, 1.0ms postprocess per image at shape (1, 3, 640, 640)\n",
      "\n"
     ]
    },
    {
     "name": "stdout",
     "output_type": "stream",
     "text": [
      "[     515.72      206.21      560.13      233.59          40]\n",
      "[      627.3      258.55      666.76      307.52          38]\n",
      "[     526.64         251      579.65      293.05          36]\n",
      "[     476.77      451.06      593.15      552.46          31]\n",
      "[     310.79      347.25      407.29      420.26          28]\n"
     ]
    },
    {
     "name": "stderr",
     "output_type": "stream",
     "text": [
      "0: 384x640 6 cars, 1 truck, 629.7ms\n",
      "Speed: 0.0ms pre-process, 629.7ms inference, 2.0ms postprocess per image at shape (1, 3, 640, 640)\n",
      "\n"
     ]
    },
    {
     "name": "stdout",
     "output_type": "stream",
     "text": [
      "[     512.39      206.25      558.42      236.64          40]\n",
      "[     620.98      269.83      664.46      322.04          38]\n",
      "[     518.43      259.63      574.06      304.67          36]\n",
      "[     284.66      365.09      389.59      444.48          28]\n"
     ]
    },
    {
     "name": "stderr",
     "output_type": "stream",
     "text": [
      "0: 384x640 6 cars, 663.0ms\n",
      "Speed: 1.0ms pre-process, 663.0ms inference, 1.0ms postprocess per image at shape (1, 3, 640, 640)\n",
      "\n"
     ]
    },
    {
     "name": "stdout",
     "output_type": "stream",
     "text": [
      "[     626.72      206.37       665.2      232.89          41]\n",
      "[     509.22      206.76      556.42      239.84          40]\n",
      "[      614.4      282.53      662.58      338.31          38]\n",
      "[     509.21      269.93      567.84      318.02          36]\n",
      "[     254.49      385.16      368.49      471.74          28]\n"
     ]
    },
    {
     "name": "stderr",
     "output_type": "stream",
     "text": [
      "0: 384x640 5 cars, 1 truck, 687.7ms\n",
      "Speed: 1.0ms pre-process, 687.7ms inference, 1.0ms postprocess per image at shape (1, 3, 640, 640)\n",
      "\n"
     ]
    },
    {
     "name": "stdout",
     "output_type": "stream",
     "text": [
      "[     577.22      205.65       617.8      228.11          42]\n",
      "[      623.8       210.2      663.71      240.32          41]\n",
      "[     506.28      206.97      554.85      242.89          40]\n",
      "[     607.76      296.64      660.19      356.29          38]\n",
      "[     497.72         281      560.01      332.51          36]\n",
      "[     219.06       408.6      344.04      503.43          28]\n"
     ]
    },
    {
     "name": "stderr",
     "output_type": "stream",
     "text": [
      "0: 384x640 6 cars, 1 truck, 662.7ms\n",
      "Speed: 1.2ms pre-process, 662.7ms inference, 2.0ms postprocess per image at shape (1, 3, 640, 640)\n",
      "\n"
     ]
    },
    {
     "name": "stdout",
     "output_type": "stream",
     "text": [
      "[      573.3      206.95      615.97      233.04          42]\n",
      "[     621.79      214.59      662.27      247.22          41]\n",
      "[     503.03      207.32      552.52      246.31          40]\n",
      "[      600.8      312.92      661.24      377.82          38]\n",
      "[     484.64      294.25      551.03      349.43          36]\n",
      "[     179.61      431.64      316.53      530.56          28]\n"
     ]
    },
    {
     "name": "stderr",
     "output_type": "stream",
     "text": [
      "0: 384x640 6 cars, 632.8ms\n",
      "Speed: 0.0ms pre-process, 632.8ms inference, 1.0ms postprocess per image at shape (1, 3, 640, 640)\n",
      "\n"
     ]
    },
    {
     "name": "stdout",
     "output_type": "stream",
     "text": [
      "[     569.04      209.93      613.52      239.09          42]\n",
      "[     619.73      219.96      661.92      255.23          41]\n",
      "[     499.61      209.28      549.97      250.29          40]\n",
      "[     590.49       332.5      656.94      402.72          38]\n",
      "[     470.48       309.4      541.48      368.11          36]\n",
      "[     156.43      453.72      293.02      545.59          28]\n"
     ]
    },
    {
     "name": "stderr",
     "output_type": "stream",
     "text": [
      "0: 384x640 5 cars, 629.2ms\n",
      "Speed: 1.2ms pre-process, 629.2ms inference, 1.0ms postprocess per image at shape (1, 3, 640, 640)\n",
      "\n"
     ]
    },
    {
     "name": "stdout",
     "output_type": "stream",
     "text": [
      "[     564.12      213.24      610.03      245.62          42]\n",
      "[     617.39      226.94      661.47      264.34          41]\n",
      "[     495.35      211.77      546.81      254.54          40]\n",
      "[     577.19       355.9      648.44      432.81          38]\n",
      "[     452.88      326.17      528.89      389.77          36]\n"
     ]
    },
    {
     "name": "stderr",
     "output_type": "stream",
     "text": [
      "0: 384x640 6 cars, 683.0ms\n",
      "Speed: 1.1ms pre-process, 683.0ms inference, 1.0ms postprocess per image at shape (1, 3, 640, 640)\n",
      "\n"
     ]
    },
    {
     "name": "stdout",
     "output_type": "stream",
     "text": [
      "[     559.51      218.58      606.39      253.14          42]\n",
      "[     615.19      234.11      660.75      273.48          41]\n",
      "[     491.21      214.52      543.66      258.81          40]\n",
      "[     559.62      383.19      636.95      468.87          38]\n",
      "[     432.72      345.18      515.14      414.79          36]\n"
     ]
    },
    {
     "name": "stderr",
     "output_type": "stream",
     "text": [
      "0: 384x640 6 cars, 619.4ms\n",
      "Speed: 0.5ms pre-process, 619.4ms inference, 1.7ms postprocess per image at shape (1, 3, 640, 640)\n",
      "\n"
     ]
    },
    {
     "name": "stdout",
     "output_type": "stream",
     "text": [
      "[     554.15      224.45      602.21      261.15          42]\n",
      "[     611.13      242.99      658.45      284.98          41]\n",
      "[     486.15      218.21      540.18      264.21          40]\n",
      "[     543.66      415.34      629.07      511.54          38]\n",
      "[     408.93      368.46      499.11      445.46          36]\n"
     ]
    },
    {
     "name": "stderr",
     "output_type": "stream",
     "text": [
      "0: 384x640 6 cars, 636.0ms\n",
      "Speed: 0.0ms pre-process, 636.0ms inference, 2.0ms postprocess per image at shape (1, 3, 640, 640)\n",
      "\n"
     ]
    },
    {
     "name": "stdout",
     "output_type": "stream",
     "text": [
      "[     548.54      230.98      597.84      269.46          42]\n",
      "[     606.22      252.25      656.44      297.52          41]\n",
      "[     480.96      221.61      536.38      269.35          40]\n",
      "[     528.91      448.12      627.26      538.75          38]\n",
      "[     379.37       394.6      480.11      480.84          36]\n"
     ]
    },
    {
     "name": "stderr",
     "output_type": "stream",
     "text": [
      "0: 384x640 6 cars, 631.1ms\n",
      "Speed: 0.0ms pre-process, 631.1ms inference, 1.0ms postprocess per image at shape (1, 3, 640, 640)\n",
      "\n"
     ]
    },
    {
     "name": "stdout",
     "output_type": "stream",
     "text": [
      "[     636.05      234.98      661.82      270.59          45]\n",
      "[      541.6      238.62      592.66         279          42]\n",
      "[     601.01      263.01      653.21      310.37          41]\n",
      "[     475.14      225.15      531.74      274.12          40]\n",
      "[     344.72      422.69      457.77         519          36]\n"
     ]
    },
    {
     "name": "stderr",
     "output_type": "stream",
     "text": [
      "0: 384x640 5 cars, 1 truck, 607.5ms\n",
      "Speed: 0.4ms pre-process, 607.5ms inference, 1.0ms postprocess per image at shape (1, 3, 640, 640)\n",
      "\n"
     ]
    },
    {
     "name": "stdout",
     "output_type": "stream",
     "text": [
      "[      632.3      242.31       664.6      284.23          45]\n",
      "[     533.89      246.84      586.81      289.44          42]\n",
      "[      594.8       275.9      649.78      326.34          41]\n",
      "[     468.57      229.56      526.66      280.55          40]\n"
     ]
    },
    {
     "name": "stderr",
     "output_type": "stream",
     "text": [
      "0: 384x640 6 cars, 636.6ms\n",
      "Speed: 1.0ms pre-process, 636.6ms inference, 1.0ms postprocess per image at shape (1, 3, 640, 640)\n",
      "\n"
     ]
    },
    {
     "name": "stdout",
     "output_type": "stream",
     "text": [
      "[     628.95      251.02      666.97      298.21          45]\n",
      "[      525.1      255.79      580.88      300.99          42]\n",
      "[     587.65      290.05       646.2      344.28          41]\n",
      "[     461.88      235.25      521.93       288.6          40]\n"
     ]
    },
    {
     "name": "stderr",
     "output_type": "stream",
     "text": [
      "0: 384x640 5 cars, 607.3ms\n",
      "Speed: 1.0ms pre-process, 607.3ms inference, 1.0ms postprocess per image at shape (1, 3, 640, 640)\n",
      "\n"
     ]
    },
    {
     "name": "stdout",
     "output_type": "stream",
     "text": [
      "[     624.51      261.15      667.58      311.92          45]\n",
      "[     514.77      265.67      573.45      313.57          42]\n",
      "[     579.09       306.4      641.02      364.45          41]\n",
      "[     454.92      239.25      516.91      294.85          40]\n"
     ]
    },
    {
     "name": "stderr",
     "output_type": "stream",
     "text": [
      "0: 384x640 5 cars, 668.1ms\n",
      "Speed: 1.0ms pre-process, 668.1ms inference, 1.0ms postprocess per image at shape (1, 3, 640, 640)\n",
      "\n"
     ]
    },
    {
     "name": "stdout",
     "output_type": "stream",
     "text": [
      "[     619.29      272.95      666.63      327.08          45]\n",
      "[     504.05      276.49      565.95      327.21          42]\n",
      "[     568.53      325.34      635.41      389.56          41]\n",
      "[     446.74      244.55      510.97      302.36          40]\n"
     ]
    },
    {
     "name": "stderr",
     "output_type": "stream",
     "text": [
      "0: 384x640 6 cars, 666.6ms\n",
      "Speed: 1.0ms pre-process, 666.6ms inference, 2.0ms postprocess per image at shape (1, 3, 640, 640)\n",
      "\n"
     ]
    },
    {
     "name": "stdout",
     "output_type": "stream",
     "text": [
      "[     637.12      222.84      663.81      258.51          48]\n",
      "[     611.64      285.96      663.92      344.09          45]\n",
      "[     491.29      289.28      557.08      343.55          42]\n",
      "[     557.22      346.79         631      418.18          41]\n",
      "[     438.39      250.03      505.71      310.65          40]\n"
     ]
    },
    {
     "name": "stderr",
     "output_type": "stream",
     "text": [
      "0: 384x640 6 cars, 638.1ms\n",
      "Speed: 1.0ms pre-process, 638.1ms inference, 1.0ms postprocess per image at shape (1, 3, 640, 640)\n",
      "\n"
     ]
    },
    {
     "name": "stdout",
     "output_type": "stream",
     "text": [
      "[     634.49      229.96      662.94      268.07          48]\n",
      "[     606.13      301.27      664.42      363.89          45]\n",
      "[     476.59      303.13      546.92      361.19          42]\n",
      "[     542.04      372.52      624.09      451.91          41]\n",
      "[     429.14      256.02      498.95      319.44          40]\n"
     ]
    },
    {
     "name": "stderr",
     "output_type": "stream",
     "text": [
      "0: 384x640 8 cars, 619.1ms\n",
      "Speed: 0.0ms pre-process, 619.1ms inference, 1.0ms postprocess per image at shape (1, 3, 640, 640)\n",
      "\n"
     ]
    },
    {
     "name": "stdout",
     "output_type": "stream",
     "text": [
      "[     632.57      237.18      665.37      278.65          48]\n",
      "[     597.67       318.9       663.8      387.16          45]\n",
      "[     459.81      318.69       535.7      381.89          42]\n",
      "[     523.12      405.03      614.62      494.11          41]\n",
      "[     418.96      262.07      491.57      327.22          40]\n"
     ]
    },
    {
     "name": "stderr",
     "output_type": "stream",
     "text": [
      "0: 384x640 8 cars, 630.1ms\n",
      "Speed: 0.0ms pre-process, 630.1ms inference, 1.0ms postprocess per image at shape (1, 3, 640, 640)\n",
      "\n"
     ]
    },
    {
     "name": "stdout",
     "output_type": "stream",
     "text": [
      "[     518.76      204.95      554.03      226.27          50]\n",
      "[     629.71      245.43      667.79      289.92          48]\n",
      "[     583.35      340.21      657.54       414.8          45]\n",
      "[     441.13      337.36      523.28       405.8          42]\n",
      "[     501.13      438.03      601.97      529.64          41]\n",
      "[     407.17      269.21      483.28       336.8          40]\n"
     ]
    },
    {
     "name": "stderr",
     "output_type": "stream",
     "text": [
      "0: 384x640 8 cars, 1 truck, 628.3ms\n",
      "Speed: 0.0ms pre-process, 628.3ms inference, 2.0ms postprocess per image at shape (1, 3, 640, 640)\n",
      "\n"
     ]
    },
    {
     "name": "stdout",
     "output_type": "stream",
     "text": [
      "[     516.95      204.97      553.46      228.28          50]\n",
      "[     626.07      254.55      667.86      301.54          48]\n",
      "[     571.08      366.23      649.02      447.22          45]\n",
      "[     418.93      359.12      509.33       434.2          42]\n",
      "[     482.14      475.28       593.2      547.95          41]\n",
      "[     394.48       277.3       474.3       347.8          40]\n"
     ]
    },
    {
     "name": "stderr",
     "output_type": "stream",
     "text": [
      "0: 384x640 7 cars, 1 truck, 633.3ms\n",
      "Speed: 2.0ms pre-process, 633.3ms inference, 1.0ms postprocess per image at shape (1, 3, 640, 640)\n",
      "\n"
     ]
    },
    {
     "name": "stdout",
     "output_type": "stream",
     "text": [
      "[     579.61      205.43      617.59      226.53          52]\n",
      "[     644.74      207.81       670.2      239.36          51]\n",
      "[     514.71      205.98      552.06      231.46          50]\n",
      "[     621.49      265.15      667.12      314.78          48]\n",
      "[     552.22      396.25      637.17      486.33          45]\n",
      "[      391.9      383.81      492.47      467.68          42]\n",
      "[     380.71       284.8       465.2      358.32          40]\n"
     ]
    },
    {
     "name": "stderr",
     "output_type": "stream",
     "text": [
      "0: 384x640 5 cars, 2 trucks, 622.1ms\n",
      "Speed: 0.0ms pre-process, 622.1ms inference, 1.4ms postprocess per image at shape (1, 3, 640, 640)\n",
      "\n"
     ]
    },
    {
     "name": "stdout",
     "output_type": "stream",
     "text": [
      "[     575.82      205.97      616.94         231          52]\n",
      "[     642.98      212.34      670.15      248.68          51]\n",
      "[     513.16      206.53      551.05      234.32          50]\n",
      "[     615.66      277.97      664.99      330.94          48]\n",
      "[     536.26      429.02      632.02      526.51          45]\n",
      "[     359.69      413.52      472.04      508.23          42]\n"
     ]
    },
    {
     "name": "stderr",
     "output_type": "stream",
     "text": [
      "0: 384x640 7 cars, 2 trucks, 621.2ms\n",
      "Speed: 0.0ms pre-process, 621.2ms inference, 1.0ms postprocess per image at shape (1, 3, 640, 640)\n",
      "\n"
     ]
    },
    {
     "name": "stdout",
     "output_type": "stream",
     "text": [
      "[     339.35      304.21      443.48      394.32          53]\n",
      "[     572.92      206.56      615.75      235.41          52]\n",
      "[     640.71      217.14      667.49      255.92          51]\n",
      "[     510.94      208.87      548.98      237.91          50]\n",
      "[     609.17      291.86      661.25      347.81          48]\n",
      "[     523.45      466.17      630.69      547.11          45]\n"
     ]
    },
    {
     "name": "stderr",
     "output_type": "stream",
     "text": [
      "0: 384x640 5 cars, 1 truck, 595.0ms\n",
      "Speed: 0.0ms pre-process, 595.0ms inference, 1.0ms postprocess per image at shape (1, 3, 640, 640)\n",
      "\n"
     ]
    },
    {
     "name": "stdout",
     "output_type": "stream",
     "text": [
      "[     319.87      314.92      431.15      411.25          53]\n",
      "[      568.7      206.34      614.56      239.21          52]\n",
      "[     508.44      211.11       547.3      241.76          50]\n",
      "[     603.55      307.46      662.54      368.22          48]\n"
     ]
    },
    {
     "name": "stderr",
     "output_type": "stream",
     "text": [
      "0: 384x640 5 cars, 596.0ms\n",
      "Speed: 0.0ms pre-process, 596.0ms inference, 2.0ms postprocess per image at shape (1, 3, 640, 640)\n",
      "\n"
     ]
    },
    {
     "name": "stdout",
     "output_type": "stream",
     "text": [
      "[     299.24      326.68      417.46         429          53]\n",
      "[     564.17      207.27      613.24      245.58          52]\n",
      "[     505.77      213.96      545.84      246.41          50]\n",
      "[     596.39      326.11      662.92      392.78          48]\n"
     ]
    },
    {
     "name": "stderr",
     "output_type": "stream",
     "text": [
      "0: 384x640 6 cars, 1 truck, 896.5ms\n",
      "Speed: 1.0ms pre-process, 896.5ms inference, 1.0ms postprocess per image at shape (1, 3, 640, 640)\n",
      "\n"
     ]
    },
    {
     "name": "stdout",
     "output_type": "stream",
     "text": [
      "[     636.16      240.05      671.01      292.67          54]\n",
      "[      276.2      341.15      401.91      450.26          53]\n",
      "[     559.54      211.47      608.45       252.7          52]\n",
      "[     502.75       216.7      543.43      250.29          50]\n",
      "[     581.42      348.11      653.64      421.19          48]\n"
     ]
    },
    {
     "name": "stderr",
     "output_type": "stream",
     "text": [
      "0: 384x640 7 cars, 1 truck, 701.6ms\n",
      "Speed: 1.0ms pre-process, 701.6ms inference, 1.6ms postprocess per image at shape (1, 3, 640, 640)\n",
      "\n"
     ]
    },
    {
     "name": "stdout",
     "output_type": "stream",
     "text": [
      "[     632.02       248.1      672.07      305.12          54]\n",
      "[     250.72      356.44      385.38      473.38          53]\n",
      "[     554.99      216.43      603.69      259.78          52]\n",
      "[     499.79      219.63      541.16      254.31          50]\n",
      "[     569.09       375.7       644.5      455.84          48]\n"
     ]
    },
    {
     "name": "stderr",
     "output_type": "stream",
     "text": [
      "0: 384x640 7 cars, 1 truck, 621.3ms\n",
      "Speed: 2.0ms pre-process, 621.3ms inference, 1.0ms postprocess per image at shape (1, 3, 640, 640)\n",
      "\n"
     ]
    },
    {
     "name": "stdout",
     "output_type": "stream",
     "text": [
      "[     627.01      259.44      671.68      320.69          54]\n",
      "[     221.22      373.87       366.3      499.29          53]\n",
      "[     549.87      222.63      598.89      267.84          52]\n",
      "[     495.62      222.97      538.18      259.37          50]\n",
      "[     555.34      408.26      637.24      499.07          48]\n"
     ]
    },
    {
     "name": "stderr",
     "output_type": "stream",
     "text": [
      "0: 384x640 8 cars, 1 truck, 632.6ms\n",
      "Speed: 1.0ms pre-process, 632.6ms inference, 1.0ms postprocess per image at shape (1, 3, 640, 640)\n",
      "\n"
     ]
    },
    {
     "name": "stdout",
     "output_type": "stream",
     "text": [
      "[     568.95      218.06      607.61      249.81          55]\n",
      "[     621.15      271.35      670.79      338.24          54]\n",
      "[     188.58      393.08      344.07      526.42          53]\n",
      "[     544.29       226.9      594.36      275.26          52]\n",
      "[     491.38         227      534.58      264.25          50]\n",
      "[     540.67      440.69      633.11      532.86          48]\n"
     ]
    },
    {
     "name": "stderr",
     "output_type": "stream",
     "text": [
      "0: 384x640 8 cars, 2 trucks, 654.3ms\n",
      "Speed: 0.0ms pre-process, 654.3ms inference, 1.0ms postprocess per image at shape (1, 3, 640, 640)\n",
      "\n"
     ]
    },
    {
     "name": "stdout",
     "output_type": "stream",
     "text": [
      "[     630.31      218.59      664.88      257.44          57]\n",
      "[     528.67      207.56      568.02      230.13          56]\n",
      "[     567.53      223.15      605.37      255.74          55]\n",
      "[     607.68      284.07      667.36      357.83          54]\n",
      "[     159.93      411.56      321.07      543.84          53]\n",
      "[     538.09      232.31      589.73      283.88          52]\n",
      "[      486.8      231.27      531.08      269.73          50]\n"
     ]
    },
    {
     "name": "stderr",
     "output_type": "stream",
     "text": [
      "0: 384x640 8 cars, 627.1ms\n",
      "Speed: 0.0ms pre-process, 627.1ms inference, 1.0ms postprocess per image at shape (1, 3, 640, 640)\n",
      "\n"
     ]
    },
    {
     "name": "stdout",
     "output_type": "stream",
     "text": [
      "[     627.51      226.59       663.9      267.98          57]\n",
      "[     524.21      206.89      565.34       233.1          56]\n",
      "[     565.38      230.09      602.73      264.27          55]\n",
      "[     600.93      300.01      667.52      379.87          54]\n",
      "[      143.9      431.85      298.78      553.55          53]\n",
      "[     531.49      238.68      585.26      294.37          52]\n",
      "[      481.2      235.58      526.55      275.48          50]\n"
     ]
    },
    {
     "name": "stderr",
     "output_type": "stream",
     "text": [
      "0: 384x640 8 cars, 1 truck, 628.5ms\n",
      "Speed: 0.0ms pre-process, 628.5ms inference, 2.0ms postprocess per image at shape (1, 3, 640, 640)\n",
      "\n"
     ]
    },
    {
     "name": "stdout",
     "output_type": "stream",
     "text": [
      "[     585.51       206.8      623.53      236.18          58]\n",
      "[     623.08      233.51      665.06      278.82          57]\n",
      "[     519.48      206.73      562.35      236.68          56]\n",
      "[     561.07      234.78      599.83      271.34          55]\n",
      "[      591.9      318.86      665.57      405.68          54]\n",
      "[      132.9      455.67       275.1      560.22          53]\n",
      "[     523.58      244.38      580.05      304.58          52]\n",
      "[     474.77      240.31      521.44      281.54          50]\n"
     ]
    },
    {
     "name": "stderr",
     "output_type": "stream",
     "text": [
      "0: 384x640 7 cars, 1 truck, 638.2ms\n",
      "Speed: 0.0ms pre-process, 638.2ms inference, 1.0ms postprocess per image at shape (1, 3, 640, 640)\n",
      "\n"
     ]
    },
    {
     "name": "stdout",
     "output_type": "stream",
     "text": [
      "[     582.79      210.91      621.47      242.01          58]\n",
      "[      620.7      241.16       666.5      288.59          57]\n",
      "[     515.26      207.49      559.39      241.13          56]\n",
      "[     557.02      240.77       597.3      279.36          55]\n",
      "[     580.97      341.85      661.28      437.01          54]\n",
      "[     515.01      251.88      574.08      315.89          52]\n",
      "[     467.97       245.4      516.18      288.18          50]\n"
     ]
    },
    {
     "name": "stderr",
     "output_type": "stream",
     "text": [
      "0: 384x640 6 cars, 1 truck, 616.4ms\n",
      "Speed: 1.0ms pre-process, 616.4ms inference, 11.5ms postprocess per image at shape (1, 3, 640, 640)\n",
      "\n"
     ]
    },
    {
     "name": "stdout",
     "output_type": "stream",
     "text": [
      "[     502.54      261.99      566.33      333.27          59]\n",
      "[     578.51      215.21      618.54      248.61          58]\n",
      "[     615.83      251.24      666.98      301.35          57]\n",
      "[     510.56      208.79      557.07      246.33          56]\n",
      "[     552.32      247.44      594.32      288.15          55]\n",
      "[     569.08      369.44      653.74      473.85          54]\n",
      "[     460.52      250.75      510.76      295.55          50]\n"
     ]
    },
    {
     "name": "stderr",
     "output_type": "stream",
     "text": [
      "0: 384x640 7 cars, 1 truck, 645.5ms\n",
      "Speed: 0.0ms pre-process, 645.5ms inference, 1.0ms postprocess per image at shape (1, 3, 640, 640)\n",
      "\n"
     ]
    },
    {
     "name": "stdout",
     "output_type": "stream",
     "text": [
      "[     490.16      271.42      558.38      348.19          59]\n",
      "[     575.93      220.44      616.79       255.2          58]\n",
      "[     610.93      261.14      666.31      314.06          57]\n",
      "[     504.61      209.58      552.62      251.09          56]\n",
      "[      544.6      254.34      589.92      297.88          55]\n",
      "[     549.88      401.58      642.73      518.98          54]\n",
      "[     452.43      256.62      504.39       303.4          50]\n"
     ]
    },
    {
     "name": "stderr",
     "output_type": "stream",
     "text": [
      "0: 384x640 7 cars, 1 truck, 624.5ms\n",
      "Speed: 0.0ms pre-process, 624.5ms inference, 2.4ms postprocess per image at shape (1, 3, 640, 640)\n",
      "\n"
     ]
    },
    {
     "name": "stdout",
     "output_type": "stream",
     "text": [
      "[     476.84      282.48      549.93      364.34          59]\n",
      "[     571.81      225.14      614.05       261.9          58]\n",
      "[     498.97      212.96      548.02      256.99          56]\n",
      "[      537.3      262.71      586.24      309.23          55]\n",
      "[     535.63      431.95      636.75      543.98          54]\n",
      "[     444.03      262.63      498.38      311.48          50]\n"
     ]
    },
    {
     "name": "stderr",
     "output_type": "stream",
     "text": [
      "0: 384x640 8 cars, 1 truck, 643.7ms\n",
      "Speed: 1.0ms pre-process, 643.7ms inference, 2.0ms postprocess per image at shape (1, 3, 640, 640)\n",
      "\n"
     ]
    },
    {
     "name": "stdout",
     "output_type": "stream",
     "text": [
      "[     461.75      294.71      540.76      382.98          59]\n",
      "[     568.27      230.67      611.24      268.96          58]\n",
      "[     494.25      216.99      543.93      263.57          56]\n",
      "[     528.56      271.88      581.78      320.87          55]\n",
      "[     433.94      270.01      490.86      320.93          50]\n"
     ]
    },
    {
     "name": "stderr",
     "output_type": "stream",
     "text": [
      "0: 384x640 7 cars, 1 truck, 618.4ms\n",
      "Speed: 0.0ms pre-process, 618.4ms inference, 1.0ms postprocess per image at shape (1, 3, 640, 640)\n",
      "\n"
     ]
    },
    {
     "name": "stdout",
     "output_type": "stream",
     "text": [
      "[     561.09      205.21      600.73      227.91          60]\n",
      "[     443.89      308.73      529.42      404.43          59]\n",
      "[     563.75      236.53      608.91      276.77          58]\n",
      "[      487.7      220.15      538.86      270.13          56]\n",
      "[     519.22      282.01      576.47      333.92          55]\n",
      "[     593.92      299.19      652.43      364.87          51]\n",
      "[     423.02      277.08      482.31      329.74          50]\n"
     ]
    },
    {
     "name": "stderr",
     "output_type": "stream",
     "text": [
      "0: 384x640 7 cars, 1 bus, 613.0ms\n",
      "Speed: 1.0ms pre-process, 613.0ms inference, 1.0ms postprocess per image at shape (1, 3, 640, 640)\n",
      "\n"
     ]
    },
    {
     "name": "stdout",
     "output_type": "stream",
     "text": [
      "[      555.2      205.84      597.32      232.12          60]\n",
      "[     422.64      325.33      515.73      429.58          59]\n",
      "[     559.16      243.49      605.83      285.86          58]\n",
      "[     480.53      223.93      533.37      276.39          56]\n",
      "[      508.9       292.5      570.98       348.1          55]\n",
      "[     582.92      317.75      647.32      389.55          51]\n",
      "[     410.85      285.72      473.03      340.52          50]\n"
     ]
    },
    {
     "name": "stderr",
     "output_type": "stream",
     "text": [
      "0: 384x640 7 cars, 1 bus, 633.7ms\n",
      "Speed: 1.3ms pre-process, 633.7ms inference, 1.0ms postprocess per image at shape (1, 3, 640, 640)\n",
      "\n"
     ]
    },
    {
     "name": "stdout",
     "output_type": "stream",
     "text": [
      "[     633.44      205.59      671.93      232.24          61]\n",
      "[     549.03      206.96      592.86      236.71          60]\n",
      "[     397.85      344.25      500.24      458.62          59]\n",
      "[     553.06      251.04      601.29      295.21          58]\n",
      "[     472.58      229.07      526.97       284.7          56]\n",
      "[     497.31      305.68      564.39      365.41          55]\n",
      "[     574.57      339.78      643.83      418.13          51]\n",
      "[     396.89      294.99      463.52      352.64          50]\n"
     ]
    },
    {
     "name": "stderr",
     "output_type": "stream",
     "text": [
      "0: 384x640 6 cars, 2 trucks, 623.4ms\n",
      "Speed: 0.0ms pre-process, 623.4ms inference, 2.0ms postprocess per image at shape (1, 3, 640, 640)\n",
      "\n"
     ]
    },
    {
     "name": "stdout",
     "output_type": "stream",
     "text": [
      "[     632.43      206.21      672.54      236.79          61]\n",
      "[      542.5      209.88      587.67       242.6          60]\n",
      "[     367.23      367.36      481.39      494.97          59]\n",
      "[     547.34      258.48      597.95      304.93          58]\n",
      "[     464.87      234.28      521.05       292.2          56]\n",
      "[     484.07      319.92      556.61      384.43          55]\n",
      "[     562.07      364.46      636.96      450.69          51]\n",
      "[     381.25      304.63      452.34      365.77          50]\n"
     ]
    },
    {
     "name": "stderr",
     "output_type": "stream",
     "text": [
      "0: 384x640 6 cars, 2 trucks, 611.0ms\n",
      "Speed: 1.0ms pre-process, 611.0ms inference, 1.0ms postprocess per image at shape (1, 3, 640, 640)\n",
      "\n"
     ]
    },
    {
     "name": "stdout",
     "output_type": "stream",
     "text": [
      "[     630.41      209.61      670.76      243.62          61]\n",
      "[     535.68      212.79      581.75       248.1          60]\n",
      "[     332.52      392.24      459.37      529.64          59]\n",
      "[     539.52      266.99      592.68      315.65          58]\n",
      "[      455.8      240.21      514.14      300.66          56]\n",
      "[     469.71       336.4      548.28      406.14          55]\n",
      "[     547.23      394.21      631.59      490.36          51]\n",
      "[     363.95      316.54      439.64      381.03          50]\n"
     ]
    },
    {
     "name": "stderr",
     "output_type": "stream",
     "text": [
      "0: 384x640 7 cars, 2 trucks, 656.5ms\n",
      "Speed: 1.0ms pre-process, 656.5ms inference, 1.0ms postprocess per image at shape (1, 3, 640, 640)\n",
      "\n"
     ]
    },
    {
     "name": "stdout",
     "output_type": "stream",
     "text": [
      "[     628.53      212.23      669.26      249.85          61]\n",
      "[     528.89      216.55      576.17      254.63          60]\n",
      "[     292.19      416.39       433.8      547.62          59]\n",
      "[     529.87      276.27      587.76      328.33          58]\n",
      "[     446.33      246.52      507.42      310.01          56]\n",
      "[     453.12      355.59      538.96       432.2          55]\n",
      "[     527.55      427.31      620.96       526.6          51]\n",
      "[     344.34      329.16      425.47      397.88          50]\n"
     ]
    },
    {
     "name": "stderr",
     "output_type": "stream",
     "text": [
      "0: 384x640 7 cars, 1 bus, 3 trucks, 702.5ms\n",
      "Speed: 1.0ms pre-process, 702.5ms inference, 1.0ms postprocess per image at shape (1, 3, 640, 640)\n",
      "\n"
     ]
    },
    {
     "name": "stdout",
     "output_type": "stream",
     "text": [
      "[     626.49      216.21       667.4      257.72          61]\n",
      "[     520.87      220.71      569.26      260.73          60]\n",
      "[     252.46       449.3      406.37       556.9          59]\n",
      "[     521.07      284.92      582.78       341.3          58]\n",
      "[      435.8      252.91      499.74      319.72          56]\n",
      "[     433.68      377.16      527.39      461.08          55]\n",
      "[      322.6      343.37      410.08      417.22          50]\n"
     ]
    },
    {
     "name": "stderr",
     "output_type": "stream",
     "text": [
      "0: 384x640 5 cars, 2 trucks, 634.5ms\n",
      "Speed: 1.4ms pre-process, 634.5ms inference, 1.0ms postprocess per image at shape (1, 3, 640, 640)\n",
      "\n"
     ]
    },
    {
     "name": "stdout",
     "output_type": "stream",
     "text": [
      "[     624.59      221.57      666.62      266.57          61]\n",
      "[      512.5       225.3      562.47      267.03          60]\n",
      "[     509.75      297.73      575.38      357.18          58]\n",
      "[     423.78      260.86      490.84      330.64          56]\n",
      "[     409.05      402.27      512.59      495.51          55]\n",
      "[     298.18      359.31      392.91      438.95          50]\n"
     ]
    },
    {
     "name": "stderr",
     "output_type": "stream",
     "text": [
      "0: 384x640 6 cars, 2 trucks, 611.9ms\n",
      "Speed: 1.0ms pre-process, 611.9ms inference, 1.0ms postprocess per image at shape (1, 3, 640, 640)\n",
      "\n"
     ]
    },
    {
     "name": "stdout",
     "output_type": "stream",
     "text": [
      "[     581.18      205.13      621.85      229.88          62]\n",
      "[     622.54      228.07      667.79      276.43          61]\n",
      "[     502.89      230.32      554.21      273.77          60]\n",
      "[     497.51      311.02      567.74      373.91          58]\n",
      "[     410.44      269.34      480.96      342.71          56]\n",
      "[     381.18      428.71      495.29      527.36          55]\n",
      "[     269.51      377.44      372.47      463.92          50]\n"
     ]
    },
    {
     "name": "stderr",
     "output_type": "stream",
     "text": [
      "0: 384x640 5 cars, 4 trucks, 635.3ms\n",
      "Speed: 1.1ms pre-process, 635.3ms inference, 1.0ms postprocess per image at shape (1, 3, 640, 640)\n",
      "\n"
     ]
    },
    {
     "name": "stdout",
     "output_type": "stream",
     "text": [
      "[     577.97      205.74      621.57      234.32          62]\n",
      "[     620.01      235.82      668.74      287.78          61]\n",
      "[     492.54      236.09       545.7       281.4          60]\n",
      "[     483.14      325.94      557.88      392.71          58]\n",
      "[     395.12      278.67      470.24       356.5          56]\n",
      "[     351.72      456.03      476.18      544.64          55]\n",
      "[     236.87      398.78       349.3      492.89          50]\n"
     ]
    },
    {
     "name": "stderr",
     "output_type": "stream",
     "text": [
      "0: 384x640 5 cars, 2 trucks, 671.8ms\n",
      "Speed: 0.0ms pre-process, 671.8ms inference, 1.0ms postprocess per image at shape (1, 3, 640, 640)\n",
      "\n"
     ]
    },
    {
     "name": "stdout",
     "output_type": "stream",
     "text": [
      "[     572.46       206.4      618.84       239.4          62]\n",
      "[     615.63      243.75      668.61      299.23          61]\n",
      "[     480.68       241.6      536.39       289.2          60]\n",
      "[     466.64      343.33      547.23      415.66          58]\n",
      "[     378.11      288.51      458.23      370.71          56]\n",
      "[     197.51      422.07      321.27      523.89          50]\n"
     ]
    },
    {
     "name": "stderr",
     "output_type": "stream",
     "text": [
      "0: 384x640 5 cars, 1 truck, 716.3ms\n",
      "Speed: 0.5ms pre-process, 716.3ms inference, 1.0ms postprocess per image at shape (1, 3, 640, 640)\n",
      "\n"
     ]
    },
    {
     "name": "stdout",
     "output_type": "stream",
     "text": [
      "[     569.28      209.18      616.65      245.42          62]\n",
      "[     611.04      252.88      667.61      312.18          61]\n",
      "[     468.99       247.5      526.74      297.21          60]\n",
      "[     358.75      299.03      444.86      386.52          56]\n",
      "[     165.88      443.32      293.62       540.7          50]\n"
     ]
    },
    {
     "name": "stderr",
     "output_type": "stream",
     "text": [
      "0: 384x640 5 cars, 1 truck, 669.6ms\n",
      "Speed: 1.0ms pre-process, 669.6ms inference, 1.1ms postprocess per image at shape (1, 3, 640, 640)\n",
      "\n"
     ]
    },
    {
     "name": "stdout",
     "output_type": "stream",
     "text": [
      "[     565.18      213.33      613.55      252.46          62]\n",
      "[     604.77      264.02      666.56      328.73          61]\n",
      "[     455.52      254.31      516.21      306.51          60]\n",
      "[     337.08      311.46      429.83      404.52          56]\n",
      "[     144.96      468.23      267.59      552.86          50]\n"
     ]
    },
    {
     "name": "stderr",
     "output_type": "stream",
     "text": [
      "0: 384x640 5 cars, 1 truck, 697.6ms\n",
      "Speed: 0.5ms pre-process, 697.6ms inference, 1.0ms postprocess per image at shape (1, 3, 640, 640)\n",
      "\n"
     ]
    },
    {
     "name": "stdout",
     "output_type": "stream",
     "text": [
      "[     395.06      405.97      507.41      509.64          63]\n",
      "[     561.51      217.62      610.77      258.76          62]\n",
      "[     598.81      276.15       664.6      344.99          61]\n",
      "[     440.93      261.76      504.51      315.96          60]\n",
      "[     312.42      325.27      412.43      425.27          56]\n"
     ]
    },
    {
     "name": "stderr",
     "output_type": "stream",
     "text": [
      "0: 384x640 7 cars, 1 truck, 634.1ms\n",
      "Speed: 1.0ms pre-process, 634.1ms inference, 1.0ms postprocess per image at shape (1, 3, 640, 640)\n",
      "\n"
     ]
    },
    {
     "name": "stdout",
     "output_type": "stream",
     "text": [
      "[     364.39      433.57      485.06      535.14          63]\n",
      "[     556.99      222.49      607.08      265.58          62]\n",
      "[     590.45      289.53      660.21      364.16          61]\n",
      "[     425.38      269.53      492.31      326.68          60]\n",
      "[     284.51       341.9      393.03      449.93          56]\n"
     ]
    },
    {
     "name": "stderr",
     "output_type": "stream",
     "text": [
      "0: 384x640 7 cars, 1 truck, 631.5ms\n",
      "Speed: 0.0ms pre-process, 631.5ms inference, 1.0ms postprocess per image at shape (1, 3, 640, 640)\n",
      "\n"
     ]
    },
    {
     "name": "stdout",
     "output_type": "stream",
     "text": [
      "[      336.7      465.77      462.77      547.78          63]\n",
      "[     550.67      228.81      602.56      274.01          62]\n",
      "[     581.01      305.96      656.43       387.7          61]\n",
      "[     408.83      278.71      479.26      338.53          60]\n",
      "[     251.48      360.06      369.64      476.87          56]\n"
     ]
    },
    {
     "name": "stderr",
     "output_type": "stream",
     "text": [
      "0: 384x640 5 cars, 1 truck, 684.7ms\n",
      "Speed: 1.0ms pre-process, 684.7ms inference, 2.6ms postprocess per image at shape (1, 3, 640, 640)\n",
      "\n"
     ]
    },
    {
     "name": "stdout",
     "output_type": "stream",
     "text": [
      "[     545.21       235.7       598.9      282.96          62]\n",
      "[     570.89      324.99      651.88      414.64          61]\n",
      "[      390.5      287.86      464.73      351.35          60]\n"
     ]
    },
    {
     "name": "stderr",
     "output_type": "stream",
     "text": [
      "0: 384x640 6 cars, 1 truck, 666.4ms\n",
      "Speed: 0.0ms pre-process, 666.4ms inference, 1.3ms postprocess per image at shape (1, 3, 640, 640)\n",
      "\n"
     ]
    },
    {
     "name": "stdout",
     "output_type": "stream",
     "text": [
      "[     527.15         205      568.16      230.89          69]\n",
      "[     578.61      209.15      614.98      237.87          68]\n",
      "[     538.72       242.3      594.27      291.88          62]\n",
      "[     556.96      348.43      643.39      447.89          61]\n",
      "[     369.61      297.87      448.95      365.59          60]\n"
     ]
    },
    {
     "name": "stderr",
     "output_type": "stream",
     "text": [
      "0: 384x640 7 cars, 1 truck, 713.0ms\n",
      "Speed: 1.0ms pre-process, 713.0ms inference, 2.0ms postprocess per image at shape (1, 3, 640, 640)\n",
      "\n"
     ]
    },
    {
     "name": "stdout",
     "output_type": "stream",
     "text": [
      "[     522.19      205.47      565.47      234.63          69]\n",
      "[     574.71      212.29      613.29      243.33          68]\n",
      "[     151.74      423.46      294.42      545.14          65]\n",
      "[     530.32      250.34      588.85       303.2          62]\n",
      "[     541.11      375.78      635.28       487.7          61]\n",
      "[     347.39       310.1      432.45      382.36          60]\n"
     ]
    },
    {
     "name": "stderr",
     "output_type": "stream",
     "text": [
      "0: 384x640 6 cars, 752.7ms\n",
      "Speed: 1.0ms pre-process, 752.7ms inference, 2.0ms postprocess per image at shape (1, 3, 640, 640)\n",
      "\n"
     ]
    },
    {
     "name": "stdout",
     "output_type": "stream",
     "text": [
      "[     517.67      206.02      562.87      238.85          69]\n",
      "[     570.68       216.7      610.69      249.35          68]\n",
      "[     633.82      218.87       666.8      263.26          67]\n",
      "[     522.61      258.97      583.71      314.66          62]\n",
      "[     522.81      404.46       627.1      524.14          61]\n",
      "[     323.83      322.26      413.95      399.67          60]\n"
     ]
    },
    {
     "name": "stderr",
     "output_type": "stream",
     "text": [
      "0: 384x640 6 cars, 1 truck, 703.1ms\n",
      "Speed: 0.5ms pre-process, 703.1ms inference, 1.0ms postprocess per image at shape (1, 3, 640, 640)\n",
      "\n"
     ]
    },
    {
     "name": "stdout",
     "output_type": "stream",
     "text": [
      "[     512.24      206.71      560.61      244.54          69]\n",
      "[     566.58       221.7      607.85      256.02          68]\n",
      "[     631.39      223.78      666.72      271.49          67]\n",
      "[     513.32      269.21      577.26      328.69          62]\n",
      "[     508.02      435.43      622.38      544.93          61]\n",
      "[     299.13      336.34      394.73      419.76          60]\n"
     ]
    },
    {
     "name": "stderr",
     "output_type": "stream",
     "text": [
      "0: 384x640 6 cars, 2 trucks, 739.8ms\n",
      "Speed: 1.0ms pre-process, 739.8ms inference, 2.0ms postprocess per image at shape (1, 3, 640, 640)\n",
      "\n"
     ]
    },
    {
     "name": "stdout",
     "output_type": "stream",
     "text": [
      "[     505.66      207.03      556.51      249.73          69]\n",
      "[     561.85      227.38      604.15      263.07          68]\n",
      "[     627.85      230.16      668.09      281.07          67]\n",
      "[     502.46      279.84         570      343.88          62]\n",
      "[     272.34      353.45      373.03      443.13          60]\n"
     ]
    },
    {
     "name": "stderr",
     "output_type": "stream",
     "text": [
      "0: 384x640 4 cars, 2 trucks, 670.8ms\n",
      "Speed: 1.0ms pre-process, 670.8ms inference, 1.0ms postprocess per image at shape (1, 3, 640, 640)\n",
      "\n"
     ]
    },
    {
     "name": "stdout",
     "output_type": "stream",
     "text": [
      "[     557.05      232.76      600.72      270.08          68]\n",
      "[      626.1      236.44      669.82      289.67          67]\n",
      "[      490.3      290.95      561.86      359.76          62]\n",
      "[     239.88      375.31      347.48      470.62          60]\n"
     ]
    },
    {
     "name": "stderr",
     "output_type": "stream",
     "text": [
      "0: 384x640 6 cars, 2 trucks, 649.7ms\n",
      "Speed: 0.0ms pre-process, 649.7ms inference, 2.0ms postprocess per image at shape (1, 3, 640, 640)\n",
      "\n"
     ]
    },
    {
     "name": "stdout",
     "output_type": "stream",
     "text": [
      "[     495.85      204.75      545.85      259.66          71]\n",
      "[     551.08      239.66      596.52      278.12          68]\n",
      "[     622.93      244.24      670.39      300.35          67]\n",
      "[        476      304.77      552.46      378.59          62]\n",
      "[     205.64      399.88      320.84       501.3          60]\n"
     ]
    },
    {
     "name": "stderr",
     "output_type": "stream",
     "text": [
      "0: 384x640 6 cars, 664.4ms\n",
      "Speed: 1.0ms pre-process, 664.4ms inference, 2.0ms postprocess per image at shape (1, 3, 640, 640)\n",
      "\n"
     ]
    },
    {
     "name": "stdout",
     "output_type": "stream",
     "text": [
      "[     545.42      246.74      592.65      287.55          68]\n",
      "[     617.23      252.38      669.85      311.98          67]\n",
      "[      459.9      319.53      542.29      400.52          62]\n"
     ]
    },
    {
     "name": "stderr",
     "output_type": "stream",
     "text": [
      "0: 384x640 5 cars, 1 truck, 660.4ms\n",
      "Speed: 0.0ms pre-process, 660.4ms inference, 2.0ms postprocess per image at shape (1, 3, 640, 640)\n",
      "\n"
     ]
    },
    {
     "name": "stdout",
     "output_type": "stream",
     "text": [
      "[     147.74      456.32      254.06      546.12          73]\n",
      "[     538.93      254.97      587.89      297.71          68]\n",
      "[     614.38      261.17      670.46      323.38          67]\n",
      "[     441.34      336.83      531.03      424.67          62]\n"
     ]
    },
    {
     "name": "stderr",
     "output_type": "stream",
     "text": [
      "0: 384x640 5 cars, 1 truck, 659.9ms\n",
      "Speed: 0.0ms pre-process, 659.9ms inference, 1.0ms postprocess per image at shape (1, 3, 640, 640)\n",
      "\n"
     ]
    },
    {
     "name": "stdout",
     "output_type": "stream",
     "text": [
      "[     526.59      203.71       581.3      223.14          74]\n",
      "[     531.24      263.28      583.02      308.44          68]\n",
      "[     607.95      271.67      667.53      337.82          67]\n",
      "[     419.18      357.66      518.16      454.21          62]\n"
     ]
    },
    {
     "name": "stderr",
     "output_type": "stream",
     "text": [
      "0: 384x640 6 cars, 1 truck, 702.2ms\n",
      "Speed: 1.0ms pre-process, 702.2ms inference, 2.0ms postprocess per image at shape (1, 3, 640, 640)\n",
      "\n"
     ]
    },
    {
     "name": "stdout",
     "output_type": "stream",
     "text": [
      "[     522.28      205.15      580.81      227.81          74]\n",
      "[      461.3      226.45      521.82      296.78          71]\n",
      "[     523.45      272.82      577.14      320.14          68]\n",
      "[     600.66      283.17      664.14      353.01          67]\n",
      "[     392.14      381.71      502.36      489.71          62]\n"
     ]
    },
    {
     "name": "stderr",
     "output_type": "stream",
     "text": [
      "0: 384x640 5 cars, 2 trucks, 629.8ms\n",
      "Speed: 0.0ms pre-process, 629.8ms inference, 1.0ms postprocess per image at shape (1, 3, 640, 640)\n"
     ]
    },
    {
     "name": "stdout",
     "output_type": "stream",
     "text": [
      "[     517.64      205.73      580.49      231.94          74]\n",
      "[     451.13      235.09      513.99      308.08          71]\n",
      "[     514.21      283.18      570.99      332.46          68]\n",
      "[     594.07      296.26      661.56       370.5          67]\n",
      "[     359.16      408.28      481.11      524.76          62]\n"
     ]
    },
    {
     "name": "stderr",
     "output_type": "stream",
     "text": [
      "\n",
      "0: 384x640 6 cars, 1 truck, 677.0ms\n",
      "Speed: 1.0ms pre-process, 677.0ms inference, 1.0ms postprocess per image at shape (1, 3, 640, 640)\n",
      "\n"
     ]
    },
    {
     "name": "stdout",
     "output_type": "stream",
     "text": [
      "[     513.04      206.29      579.38      236.34          74]\n",
      "[     440.38      241.55       505.2      315.84          71]\n",
      "[     586.12      310.66      659.62      390.72          67]\n",
      "[     325.48      434.51      457.66      543.17          62]\n"
     ]
    },
    {
     "name": "stderr",
     "output_type": "stream",
     "text": [
      "0: 384x640 5 cars, 1 truck, 651.1ms\n",
      "Speed: 0.0ms pre-process, 651.1ms inference, 1.0ms postprocess per image at shape (1, 3, 640, 640)\n",
      "\n"
     ]
    },
    {
     "name": "stdout",
     "output_type": "stream",
     "text": [
      "[     591.33      204.87      628.97      227.22          75]\n",
      "[     507.95      206.77      577.11      240.88          74]\n",
      "[      426.6      247.12      496.22      327.75          71]\n",
      "[     578.09      327.93      658.17      415.44          67]\n"
     ]
    },
    {
     "name": "stderr",
     "output_type": "stream",
     "text": [
      "0: 384x640 5 cars, 2 trucks, 683.0ms\n",
      "Speed: 1.0ms pre-process, 683.0ms inference, 1.0ms postprocess per image at shape (1, 3, 640, 640)\n",
      "\n"
     ]
    },
    {
     "name": "stdout",
     "output_type": "stream",
     "text": [
      "[     588.26      205.86      627.61      231.77          75]\n",
      "[     502.99      207.12      574.86      245.58          74]\n",
      "[     474.66      321.66      544.32      383.02          72]\n",
      "[     412.91      250.36       488.7      339.17          71]\n",
      "[     565.47      347.58      650.32      443.12          67]\n"
     ]
    },
    {
     "name": "stderr",
     "output_type": "stream",
     "text": [
      "0: 384x640 5 cars, 1 truck, 670.5ms\n",
      "Speed: 0.0ms pre-process, 670.5ms inference, 1.0ms postprocess per image at shape (1, 3, 640, 640)\n",
      "\n"
     ]
    },
    {
     "name": "stdout",
     "output_type": "stream",
     "text": [
      "[     585.14      206.54      625.91      236.28          75]\n",
      "[     497.56      206.99      571.11      250.07          74]\n",
      "[     457.27      339.89      532.61      405.42          72]\n",
      "[     397.09      259.68      477.27      354.08          71]\n",
      "[     550.39      370.59      641.48      475.93          67]\n"
     ]
    },
    {
     "name": "stderr",
     "output_type": "stream",
     "text": [
      "0: 384x640 3 cars, 2 trucks, 644.5ms\n",
      "Speed: 0.0ms pre-process, 644.5ms inference, 1.0ms postprocess per image at shape (1, 3, 640, 640)\n",
      "\n"
     ]
    },
    {
     "name": "stdout",
     "output_type": "stream",
     "text": [
      "[     582.72      207.26       624.8      241.36          75]\n",
      "[     492.43      207.37      568.38      255.15          74]\n",
      "[     435.66      361.08      517.42      431.89          72]\n",
      "[     379.45      273.67      465.46      371.83          71]\n",
      "[     535.85      396.18      636.08      513.84          67]\n"
     ]
    },
    {
     "name": "stderr",
     "output_type": "stream",
     "text": [
      "0: 384x640 3 cars, 3 trucks, 669.2ms\n",
      "Speed: 1.0ms pre-process, 669.2ms inference, 2.0ms postprocess per image at shape (1, 3, 640, 640)\n",
      "\n"
     ]
    },
    {
     "name": "stdout",
     "output_type": "stream",
     "text": [
      "[     579.43      208.28      622.88      247.01          75]\n",
      "[     486.94      207.91      565.86      261.14          74]\n",
      "[     410.62      385.16      500.42      463.76          72]\n",
      "[     359.29      286.88      451.42      390.45          71]\n",
      "[     517.95      419.37      627.75      537.31          67]\n"
     ]
    },
    {
     "name": "stderr",
     "output_type": "stream",
     "text": [
      "0: 384x640 2 cars, 1 bus, 3 trucks, 692.3ms\n",
      "Speed: 0.0ms pre-process, 692.3ms inference, 1.0ms postprocess per image at shape (1, 3, 640, 640)\n",
      "\n"
     ]
    },
    {
     "name": "stdout",
     "output_type": "stream",
     "text": [
      "[     575.37         212      619.79      254.37          75]\n",
      "[     480.85      207.47      563.22      266.49          74]\n",
      "[     337.35       299.3      436.81       410.5          71]\n",
      "[     504.69      449.41      622.25      550.73          67]\n"
     ]
    },
    {
     "name": "stderr",
     "output_type": "stream",
     "text": [
      "0: 384x640 1 car, 3 trucks, 642.3ms\n",
      "Speed: 1.0ms pre-process, 642.3ms inference, 1.0ms postprocess per image at shape (1, 3, 640, 640)\n",
      "\n"
     ]
    },
    {
     "name": "stdout",
     "output_type": "stream",
     "text": [
      "[     571.54      215.38      617.15      261.58          75]\n",
      "[     312.31      313.81      420.52      434.54          71]\n"
     ]
    },
    {
     "name": "stderr",
     "output_type": "stream",
     "text": [
      "0: 384x640 1 car, 1 bus, 3 trucks, 658.4ms\n",
      "Speed: 2.0ms pre-process, 658.4ms inference, 1.0ms postprocess per image at shape (1, 3, 640, 640)\n",
      "\n"
     ]
    },
    {
     "name": "stdout",
     "output_type": "stream",
     "text": [
      "[     567.83      220.23      614.64      269.78          75]\n",
      "[     283.33       330.8      401.18      462.27          71]\n"
     ]
    },
    {
     "name": "stderr",
     "output_type": "stream",
     "text": [
      "0: 384x640 1 bus, 2 trucks, 659.0ms\n",
      "Speed: 0.0ms pre-process, 659.0ms inference, 2.0ms postprocess per image at shape (1, 3, 640, 640)\n",
      "\n"
     ]
    },
    {
     "name": "stdout",
     "output_type": "stream",
     "text": [
      "[     455.29       204.4      550.91      294.18          79]\n",
      "[     562.44       225.8      611.25       278.8          75]\n",
      "[     250.72      352.37      379.64      495.55          71]\n"
     ]
    },
    {
     "name": "stderr",
     "output_type": "stream",
     "text": [
      "0: 384x640 1 car, 1 bus, 3 trucks, 668.8ms\n",
      "Speed: 1.0ms pre-process, 668.8ms inference, 2.1ms postprocess per image at shape (1, 3, 640, 640)\n",
      "\n"
     ]
    },
    {
     "name": "stdout",
     "output_type": "stream",
     "text": [
      "[     445.29      205.18      546.34      301.82          79]\n",
      "[     557.59      231.97      607.72      288.41          75]\n",
      "[     213.02      372.39      355.19      526.24          71]\n"
     ]
    },
    {
     "name": "stderr",
     "output_type": "stream",
     "text": [
      "0: 384x640 1 car, 1 bus, 3 trucks, 656.5ms\n",
      "Speed: 1.0ms pre-process, 656.5ms inference, 1.0ms postprocess per image at shape (1, 3, 640, 640)\n",
      "\n"
     ]
    },
    {
     "name": "stdout",
     "output_type": "stream",
     "text": [
      "[     434.87      208.64      541.04       310.9          79]\n",
      "[     552.29      239.17      604.13      298.72          75]\n",
      "[     174.23      390.94      327.58      542.97          71]\n"
     ]
    },
    {
     "name": "stderr",
     "output_type": "stream",
     "text": [
      "0: 384x640 1 car, 1 bus, 3 trucks, 647.5ms\n",
      "Speed: 1.0ms pre-process, 647.5ms inference, 1.0ms postprocess per image at shape (1, 3, 640, 640)\n",
      "\n"
     ]
    },
    {
     "name": "stdout",
     "output_type": "stream",
     "text": [
      "[     424.22      212.21      536.37       321.1          79]\n",
      "[     546.54      247.21      600.16      310.12          75]\n",
      "[      426.3      215.81      536.55      316.19          74]\n",
      "[     152.02      413.85      304.17      554.03          71]\n"
     ]
    },
    {
     "name": "stderr",
     "output_type": "stream",
     "text": [
      "0: 384x640 1 car, 2 trucks, 654.6ms\n",
      "Speed: 1.0ms pre-process, 654.6ms inference, 2.0ms postprocess per image at shape (1, 3, 640, 640)\n",
      "\n"
     ]
    },
    {
     "name": "stdout",
     "output_type": "stream",
     "text": [
      "[     642.49       218.1       668.6      253.46          80]\n",
      "[     410.28      217.26      528.87      332.26          79]\n",
      "[     539.63      255.61      595.74       322.5          75]\n"
     ]
    },
    {
     "name": "stderr",
     "output_type": "stream",
     "text": [
      "0: 384x640 2 cars, 2 trucks, 674.7ms\n",
      "Speed: 1.1ms pre-process, 674.7ms inference, 1.0ms postprocess per image at shape (1, 3, 640, 640)\n",
      "\n"
     ]
    },
    {
     "name": "stdout",
     "output_type": "stream",
     "text": [
      "[      639.6      225.18      666.69      262.96          80]\n",
      "[     396.37      222.01      522.02      343.82          79]\n",
      "[     531.39      263.73      590.07      334.31          75]\n"
     ]
    },
    {
     "name": "stderr",
     "output_type": "stream",
     "text": [
      "0: 384x640 2 cars, 1 bus, 1 truck, 645.6ms\n",
      "Speed: 0.0ms pre-process, 645.6ms inference, 2.0ms postprocess per image at shape (1, 3, 640, 640)\n",
      "\n"
     ]
    },
    {
     "name": "stdout",
     "output_type": "stream",
     "text": [
      "[     637.46      234.09      669.02      274.77          80]\n",
      "[     380.23      227.86      513.63      355.62          79]\n",
      "[     521.86      274.32       584.1      348.55          75]\n"
     ]
    },
    {
     "name": "stderr",
     "output_type": "stream",
     "text": [
      "0: 384x640 2 cars, 1 bus, 2 trucks, 702.1ms\n",
      "Speed: 1.0ms pre-process, 702.1ms inference, 1.0ms postprocess per image at shape (1, 3, 640, 640)\n",
      "\n"
     ]
    },
    {
     "name": "stdout",
     "output_type": "stream",
     "text": [
      "[     634.46      242.92      670.12      287.13          80]\n",
      "[     362.69      235.52      505.34      370.08          79]\n",
      "[     510.59      286.14      576.67      365.34          75]\n"
     ]
    },
    {
     "name": "stderr",
     "output_type": "stream",
     "text": [
      "0: 384x640 2 cars, 1 bus, 1 truck, 670.9ms\n",
      "Speed: 0.7ms pre-process, 670.9ms inference, 2.0ms postprocess per image at shape (1, 3, 640, 640)\n",
      "\n"
     ]
    },
    {
     "name": "stdout",
     "output_type": "stream",
     "text": [
      "[     633.15      205.72      672.87      235.53          81]\n",
      "[     631.08      254.07      671.57      302.13          80]\n",
      "[     343.52      242.15      495.57      383.18          79]\n",
      "[     496.91      300.01      568.49      385.39          75]\n"
     ]
    },
    {
     "name": "stderr",
     "output_type": "stream",
     "text": [
      "0: 384x640 2 cars, 1 bus, 1 truck, 681.0ms\n",
      "Speed: 1.0ms pre-process, 681.0ms inference, 1.0ms postprocess per image at shape (1, 3, 640, 640)\n",
      "\n"
     ]
    },
    {
     "name": "stdout",
     "output_type": "stream",
     "text": [
      "[     630.48       208.4      672.24      243.29          81]\n",
      "[     625.39      266.84      671.21      319.21          80]\n",
      "[     322.85      248.98      486.22      399.11          79]\n",
      "[     480.76      315.31      559.02      407.93          75]\n"
     ]
    },
    {
     "name": "stderr",
     "output_type": "stream",
     "text": [
      "0: 384x640 2 cars, 1 bus, 1 truck, 659.9ms\n",
      "Speed: 1.0ms pre-process, 659.9ms inference, 1.0ms postprocess per image at shape (1, 3, 640, 640)\n",
      "\n"
     ]
    },
    {
     "name": "stdout",
     "output_type": "stream",
     "text": [
      "[     628.65      213.08      671.62      251.88          81]\n",
      "[     618.96      282.45      669.43      339.42          80]\n",
      "[     301.99      257.81      476.05      417.46          79]\n",
      "[     461.67       332.8      547.84      434.29          75]\n"
     ]
    },
    {
     "name": "stderr",
     "output_type": "stream",
     "text": [
      "0: 384x640 2 cars, 1 bus, 1 truck, 646.9ms\n",
      "Speed: 1.0ms pre-process, 646.9ms inference, 1.0ms postprocess per image at shape (1, 3, 640, 640)\n",
      "\n"
     ]
    },
    {
     "name": "stdout",
     "output_type": "stream",
     "text": [
      "[     625.54      220.08      669.71       262.5          81]\n",
      "[     611.14      300.49      666.97      361.95          80]\n",
      "[      276.1      268.05      463.31      438.64          79]\n",
      "[     438.92      353.25      534.02      464.46          75]\n"
     ]
    },
    {
     "name": "stderr",
     "output_type": "stream",
     "text": [
      "0: 384x640 2 cars, 1 bus, 1 truck, 640.1ms\n",
      "Speed: 2.0ms pre-process, 640.1ms inference, 2.0ms postprocess per image at shape (1, 3, 640, 640)\n",
      "\n"
     ]
    },
    {
     "name": "stdout",
     "output_type": "stream",
     "text": [
      "[     623.54      228.06      670.76      274.16          81]\n",
      "[     603.78      321.64      669.34      389.68          80]\n",
      "[     256.94      278.88      453.58       460.1          79]\n",
      "[     412.21      378.67      517.93      502.61          75]\n"
     ]
    },
    {
     "name": "stderr",
     "output_type": "stream",
     "text": [
      "0: 384x640 2 cars, 1 bus, 1 truck, 671.2ms\n",
      "Speed: 1.0ms pre-process, 671.2ms inference, 1.0ms postprocess per image at shape (1, 3, 640, 640)\n",
      "\n"
     ]
    },
    {
     "name": "stdout",
     "output_type": "stream",
     "text": [
      "[     621.07      236.97      671.62      286.89          81]\n",
      "[     589.27       346.9      664.88      422.23          80]\n",
      "[     228.53      290.47      439.04      486.33          79]\n",
      "[        380      402.04      497.21      531.26          75]\n"
     ]
    },
    {
     "name": "stderr",
     "output_type": "stream",
     "text": [
      "0: 384x640 2 cars, 1 bus, 1 truck, 620.3ms\n",
      "Speed: 1.2ms pre-process, 620.3ms inference, 1.0ms postprocess per image at shape (1, 3, 640, 640)\n",
      "\n"
     ]
    },
    {
     "name": "stdout",
     "output_type": "stream",
     "text": [
      "[     616.66      247.59      671.48      301.92          81]\n",
      "[     574.14      380.15      652.56      463.88          80]\n",
      "[     184.29      302.68      418.01      518.56          79]\n",
      "[     343.73       428.1      474.18       546.2          75]\n"
     ]
    },
    {
     "ename": "KeyboardInterrupt",
     "evalue": "",
     "output_type": "error",
     "traceback": [
      "\u001b[1;31m---------------------------------------------------------------------------\u001b[0m",
      "\u001b[1;31mKeyboardInterrupt\u001b[0m                         Traceback (most recent call last)",
      "Cell \u001b[1;32mIn[2], line 42\u001b[0m\n\u001b[0;32m     38\u001b[0m results \u001b[38;5;241m=\u001b[39m model(imgRegion, stream\u001b[38;5;241m=\u001b[39m\u001b[38;5;28;01mTrue\u001b[39;00m)\n\u001b[0;32m     40\u001b[0m detections \u001b[38;5;241m=\u001b[39m np\u001b[38;5;241m.\u001b[39mempty((\u001b[38;5;241m0\u001b[39m, \u001b[38;5;241m5\u001b[39m))\n\u001b[1;32m---> 42\u001b[0m \u001b[38;5;28;01mfor\u001b[39;00m r \u001b[38;5;129;01min\u001b[39;00m results:\n\u001b[0;32m     43\u001b[0m     boxes \u001b[38;5;241m=\u001b[39m r\u001b[38;5;241m.\u001b[39mboxes\n\u001b[0;32m     44\u001b[0m     \u001b[38;5;28;01mfor\u001b[39;00m box \u001b[38;5;129;01min\u001b[39;00m boxes:\n\u001b[0;32m     45\u001b[0m         \u001b[38;5;66;03m# Bounding Box\u001b[39;00m\n",
      "File \u001b[1;32mc:\\Users\\hardi\\OneDrive\\Desktop\\car_co\\.venv\\lib\\site-packages\\ultralytics\\yolo\\engine\\predictor.py:168\u001b[0m, in \u001b[0;36mBasePredictor.stream_inference\u001b[1;34m(self, source, model)\u001b[0m\n\u001b[0;32m    166\u001b[0m \u001b[38;5;66;03m# Inference\u001b[39;00m\n\u001b[0;32m    167\u001b[0m \u001b[38;5;28;01mwith\u001b[39;00m \u001b[38;5;28mself\u001b[39m\u001b[38;5;241m.\u001b[39mdt[\u001b[38;5;241m1\u001b[39m]:\n\u001b[1;32m--> 168\u001b[0m     preds \u001b[38;5;241m=\u001b[39m \u001b[38;5;28;43mself\u001b[39;49m\u001b[38;5;241;43m.\u001b[39;49m\u001b[43mmodel\u001b[49m\u001b[43m(\u001b[49m\u001b[43mim\u001b[49m\u001b[43m,\u001b[49m\u001b[43m \u001b[49m\u001b[43maugment\u001b[49m\u001b[38;5;241;43m=\u001b[39;49m\u001b[38;5;28;43mself\u001b[39;49m\u001b[38;5;241;43m.\u001b[39;49m\u001b[43margs\u001b[49m\u001b[38;5;241;43m.\u001b[39;49m\u001b[43maugment\u001b[49m\u001b[43m,\u001b[49m\u001b[43m \u001b[49m\u001b[43mvisualize\u001b[49m\u001b[38;5;241;43m=\u001b[39;49m\u001b[43mvisualize\u001b[49m\u001b[43m)\u001b[49m\n\u001b[0;32m    170\u001b[0m \u001b[38;5;66;03m# postprocess\u001b[39;00m\n\u001b[0;32m    171\u001b[0m \u001b[38;5;28;01mwith\u001b[39;00m \u001b[38;5;28mself\u001b[39m\u001b[38;5;241m.\u001b[39mdt[\u001b[38;5;241m2\u001b[39m]:\n",
      "File \u001b[1;32mc:\\Users\\hardi\\OneDrive\\Desktop\\car_co\\.venv\\lib\\site-packages\\torch\\nn\\modules\\module.py:1736\u001b[0m, in \u001b[0;36mModule._wrapped_call_impl\u001b[1;34m(self, *args, **kwargs)\u001b[0m\n\u001b[0;32m   1734\u001b[0m     \u001b[38;5;28;01mreturn\u001b[39;00m \u001b[38;5;28mself\u001b[39m\u001b[38;5;241m.\u001b[39m_compiled_call_impl(\u001b[38;5;241m*\u001b[39margs, \u001b[38;5;241m*\u001b[39m\u001b[38;5;241m*\u001b[39mkwargs)  \u001b[38;5;66;03m# type: ignore[misc]\u001b[39;00m\n\u001b[0;32m   1735\u001b[0m \u001b[38;5;28;01melse\u001b[39;00m:\n\u001b[1;32m-> 1736\u001b[0m     \u001b[38;5;28;01mreturn\u001b[39;00m \u001b[38;5;28mself\u001b[39m\u001b[38;5;241m.\u001b[39m_call_impl(\u001b[38;5;241m*\u001b[39margs, \u001b[38;5;241m*\u001b[39m\u001b[38;5;241m*\u001b[39mkwargs)\n",
      "File \u001b[1;32mc:\\Users\\hardi\\OneDrive\\Desktop\\car_co\\.venv\\lib\\site-packages\\torch\\nn\\modules\\module.py:1747\u001b[0m, in \u001b[0;36mModule._call_impl\u001b[1;34m(self, *args, **kwargs)\u001b[0m\n\u001b[0;32m   1742\u001b[0m \u001b[38;5;66;03m# If we don't have any hooks, we want to skip the rest of the logic in\u001b[39;00m\n\u001b[0;32m   1743\u001b[0m \u001b[38;5;66;03m# this function, and just call forward.\u001b[39;00m\n\u001b[0;32m   1744\u001b[0m \u001b[38;5;28;01mif\u001b[39;00m \u001b[38;5;129;01mnot\u001b[39;00m (\u001b[38;5;28mself\u001b[39m\u001b[38;5;241m.\u001b[39m_backward_hooks \u001b[38;5;129;01mor\u001b[39;00m \u001b[38;5;28mself\u001b[39m\u001b[38;5;241m.\u001b[39m_backward_pre_hooks \u001b[38;5;129;01mor\u001b[39;00m \u001b[38;5;28mself\u001b[39m\u001b[38;5;241m.\u001b[39m_forward_hooks \u001b[38;5;129;01mor\u001b[39;00m \u001b[38;5;28mself\u001b[39m\u001b[38;5;241m.\u001b[39m_forward_pre_hooks\n\u001b[0;32m   1745\u001b[0m         \u001b[38;5;129;01mor\u001b[39;00m _global_backward_pre_hooks \u001b[38;5;129;01mor\u001b[39;00m _global_backward_hooks\n\u001b[0;32m   1746\u001b[0m         \u001b[38;5;129;01mor\u001b[39;00m _global_forward_hooks \u001b[38;5;129;01mor\u001b[39;00m _global_forward_pre_hooks):\n\u001b[1;32m-> 1747\u001b[0m     \u001b[38;5;28;01mreturn\u001b[39;00m forward_call(\u001b[38;5;241m*\u001b[39margs, \u001b[38;5;241m*\u001b[39m\u001b[38;5;241m*\u001b[39mkwargs)\n\u001b[0;32m   1749\u001b[0m result \u001b[38;5;241m=\u001b[39m \u001b[38;5;28;01mNone\u001b[39;00m\n\u001b[0;32m   1750\u001b[0m called_always_called_hooks \u001b[38;5;241m=\u001b[39m \u001b[38;5;28mset\u001b[39m()\n",
      "File \u001b[1;32mc:\\Users\\hardi\\OneDrive\\Desktop\\car_co\\.venv\\lib\\site-packages\\ultralytics\\nn\\autobackend.py:258\u001b[0m, in \u001b[0;36mAutoBackend.forward\u001b[1;34m(self, im, augment, visualize)\u001b[0m\n\u001b[0;32m    255\u001b[0m     im \u001b[38;5;241m=\u001b[39m im\u001b[38;5;241m.\u001b[39mpermute(\u001b[38;5;241m0\u001b[39m, \u001b[38;5;241m2\u001b[39m, \u001b[38;5;241m3\u001b[39m, \u001b[38;5;241m1\u001b[39m)  \u001b[38;5;66;03m# torch BCHW to numpy BHWC shape(1,320,192,3)\u001b[39;00m\n\u001b[0;32m    257\u001b[0m \u001b[38;5;28;01mif\u001b[39;00m \u001b[38;5;28mself\u001b[39m\u001b[38;5;241m.\u001b[39mpt \u001b[38;5;129;01mor\u001b[39;00m \u001b[38;5;28mself\u001b[39m\u001b[38;5;241m.\u001b[39mnn_module:  \u001b[38;5;66;03m# PyTorch\u001b[39;00m\n\u001b[1;32m--> 258\u001b[0m     y \u001b[38;5;241m=\u001b[39m \u001b[38;5;28mself\u001b[39m\u001b[38;5;241m.\u001b[39mmodel(im, augment\u001b[38;5;241m=\u001b[39maugment, visualize\u001b[38;5;241m=\u001b[39mvisualize) \u001b[38;5;28;01mif\u001b[39;00m augment \u001b[38;5;129;01mor\u001b[39;00m visualize \u001b[38;5;28;01melse\u001b[39;00m \u001b[38;5;28;43mself\u001b[39;49m\u001b[38;5;241;43m.\u001b[39;49m\u001b[43mmodel\u001b[49m\u001b[43m(\u001b[49m\u001b[43mim\u001b[49m\u001b[43m)\u001b[49m\n\u001b[0;32m    259\u001b[0m \u001b[38;5;28;01melif\u001b[39;00m \u001b[38;5;28mself\u001b[39m\u001b[38;5;241m.\u001b[39mjit:  \u001b[38;5;66;03m# TorchScript\u001b[39;00m\n\u001b[0;32m    260\u001b[0m     y \u001b[38;5;241m=\u001b[39m \u001b[38;5;28mself\u001b[39m\u001b[38;5;241m.\u001b[39mmodel(im)\n",
      "File \u001b[1;32mc:\\Users\\hardi\\OneDrive\\Desktop\\car_co\\.venv\\lib\\site-packages\\torch\\nn\\modules\\module.py:1736\u001b[0m, in \u001b[0;36mModule._wrapped_call_impl\u001b[1;34m(self, *args, **kwargs)\u001b[0m\n\u001b[0;32m   1734\u001b[0m     \u001b[38;5;28;01mreturn\u001b[39;00m \u001b[38;5;28mself\u001b[39m\u001b[38;5;241m.\u001b[39m_compiled_call_impl(\u001b[38;5;241m*\u001b[39margs, \u001b[38;5;241m*\u001b[39m\u001b[38;5;241m*\u001b[39mkwargs)  \u001b[38;5;66;03m# type: ignore[misc]\u001b[39;00m\n\u001b[0;32m   1735\u001b[0m \u001b[38;5;28;01melse\u001b[39;00m:\n\u001b[1;32m-> 1736\u001b[0m     \u001b[38;5;28;01mreturn\u001b[39;00m \u001b[38;5;28mself\u001b[39m\u001b[38;5;241m.\u001b[39m_call_impl(\u001b[38;5;241m*\u001b[39margs, \u001b[38;5;241m*\u001b[39m\u001b[38;5;241m*\u001b[39mkwargs)\n",
      "File \u001b[1;32mc:\\Users\\hardi\\OneDrive\\Desktop\\car_co\\.venv\\lib\\site-packages\\torch\\nn\\modules\\module.py:1747\u001b[0m, in \u001b[0;36mModule._call_impl\u001b[1;34m(self, *args, **kwargs)\u001b[0m\n\u001b[0;32m   1742\u001b[0m \u001b[38;5;66;03m# If we don't have any hooks, we want to skip the rest of the logic in\u001b[39;00m\n\u001b[0;32m   1743\u001b[0m \u001b[38;5;66;03m# this function, and just call forward.\u001b[39;00m\n\u001b[0;32m   1744\u001b[0m \u001b[38;5;28;01mif\u001b[39;00m \u001b[38;5;129;01mnot\u001b[39;00m (\u001b[38;5;28mself\u001b[39m\u001b[38;5;241m.\u001b[39m_backward_hooks \u001b[38;5;129;01mor\u001b[39;00m \u001b[38;5;28mself\u001b[39m\u001b[38;5;241m.\u001b[39m_backward_pre_hooks \u001b[38;5;129;01mor\u001b[39;00m \u001b[38;5;28mself\u001b[39m\u001b[38;5;241m.\u001b[39m_forward_hooks \u001b[38;5;129;01mor\u001b[39;00m \u001b[38;5;28mself\u001b[39m\u001b[38;5;241m.\u001b[39m_forward_pre_hooks\n\u001b[0;32m   1745\u001b[0m         \u001b[38;5;129;01mor\u001b[39;00m _global_backward_pre_hooks \u001b[38;5;129;01mor\u001b[39;00m _global_backward_hooks\n\u001b[0;32m   1746\u001b[0m         \u001b[38;5;129;01mor\u001b[39;00m _global_forward_hooks \u001b[38;5;129;01mor\u001b[39;00m _global_forward_pre_hooks):\n\u001b[1;32m-> 1747\u001b[0m     \u001b[38;5;28;01mreturn\u001b[39;00m forward_call(\u001b[38;5;241m*\u001b[39margs, \u001b[38;5;241m*\u001b[39m\u001b[38;5;241m*\u001b[39mkwargs)\n\u001b[0;32m   1749\u001b[0m result \u001b[38;5;241m=\u001b[39m \u001b[38;5;28;01mNone\u001b[39;00m\n\u001b[0;32m   1750\u001b[0m called_always_called_hooks \u001b[38;5;241m=\u001b[39m \u001b[38;5;28mset\u001b[39m()\n",
      "File \u001b[1;32mc:\\Users\\hardi\\OneDrive\\Desktop\\car_co\\.venv\\lib\\site-packages\\ultralytics\\nn\\tasks.py:194\u001b[0m, in \u001b[0;36mDetectionModel.forward\u001b[1;34m(self, x, augment, profile, visualize)\u001b[0m\n\u001b[0;32m    192\u001b[0m \u001b[38;5;28;01mif\u001b[39;00m augment:\n\u001b[0;32m    193\u001b[0m     \u001b[38;5;28;01mreturn\u001b[39;00m \u001b[38;5;28mself\u001b[39m\u001b[38;5;241m.\u001b[39m_forward_augment(x)  \u001b[38;5;66;03m# augmented inference, None\u001b[39;00m\n\u001b[1;32m--> 194\u001b[0m \u001b[38;5;28;01mreturn\u001b[39;00m \u001b[38;5;28;43mself\u001b[39;49m\u001b[38;5;241;43m.\u001b[39;49m\u001b[43m_forward_once\u001b[49m\u001b[43m(\u001b[49m\u001b[43mx\u001b[49m\u001b[43m,\u001b[49m\u001b[43m \u001b[49m\u001b[43mprofile\u001b[49m\u001b[43m,\u001b[49m\u001b[43m \u001b[49m\u001b[43mvisualize\u001b[49m\u001b[43m)\u001b[49m\n",
      "File \u001b[1;32mc:\\Users\\hardi\\OneDrive\\Desktop\\car_co\\.venv\\lib\\site-packages\\ultralytics\\nn\\tasks.py:57\u001b[0m, in \u001b[0;36mBaseModel._forward_once\u001b[1;34m(self, x, profile, visualize)\u001b[0m\n\u001b[0;32m     55\u001b[0m \u001b[38;5;28;01mif\u001b[39;00m profile:\n\u001b[0;32m     56\u001b[0m     \u001b[38;5;28mself\u001b[39m\u001b[38;5;241m.\u001b[39m_profile_one_layer(m, x, dt)\n\u001b[1;32m---> 57\u001b[0m x \u001b[38;5;241m=\u001b[39m \u001b[43mm\u001b[49m\u001b[43m(\u001b[49m\u001b[43mx\u001b[49m\u001b[43m)\u001b[49m  \u001b[38;5;66;03m# run\u001b[39;00m\n\u001b[0;32m     58\u001b[0m y\u001b[38;5;241m.\u001b[39mappend(x \u001b[38;5;28;01mif\u001b[39;00m m\u001b[38;5;241m.\u001b[39mi \u001b[38;5;129;01min\u001b[39;00m \u001b[38;5;28mself\u001b[39m\u001b[38;5;241m.\u001b[39msave \u001b[38;5;28;01melse\u001b[39;00m \u001b[38;5;28;01mNone\u001b[39;00m)  \u001b[38;5;66;03m# save output\u001b[39;00m\n\u001b[0;32m     59\u001b[0m \u001b[38;5;28;01mif\u001b[39;00m visualize:\n",
      "File \u001b[1;32mc:\\Users\\hardi\\OneDrive\\Desktop\\car_co\\.venv\\lib\\site-packages\\torch\\nn\\modules\\module.py:1736\u001b[0m, in \u001b[0;36mModule._wrapped_call_impl\u001b[1;34m(self, *args, **kwargs)\u001b[0m\n\u001b[0;32m   1734\u001b[0m     \u001b[38;5;28;01mreturn\u001b[39;00m \u001b[38;5;28mself\u001b[39m\u001b[38;5;241m.\u001b[39m_compiled_call_impl(\u001b[38;5;241m*\u001b[39margs, \u001b[38;5;241m*\u001b[39m\u001b[38;5;241m*\u001b[39mkwargs)  \u001b[38;5;66;03m# type: ignore[misc]\u001b[39;00m\n\u001b[0;32m   1735\u001b[0m \u001b[38;5;28;01melse\u001b[39;00m:\n\u001b[1;32m-> 1736\u001b[0m     \u001b[38;5;28;01mreturn\u001b[39;00m \u001b[38;5;28mself\u001b[39m\u001b[38;5;241m.\u001b[39m_call_impl(\u001b[38;5;241m*\u001b[39margs, \u001b[38;5;241m*\u001b[39m\u001b[38;5;241m*\u001b[39mkwargs)\n",
      "File \u001b[1;32mc:\\Users\\hardi\\OneDrive\\Desktop\\car_co\\.venv\\lib\\site-packages\\torch\\nn\\modules\\module.py:1747\u001b[0m, in \u001b[0;36mModule._call_impl\u001b[1;34m(self, *args, **kwargs)\u001b[0m\n\u001b[0;32m   1742\u001b[0m \u001b[38;5;66;03m# If we don't have any hooks, we want to skip the rest of the logic in\u001b[39;00m\n\u001b[0;32m   1743\u001b[0m \u001b[38;5;66;03m# this function, and just call forward.\u001b[39;00m\n\u001b[0;32m   1744\u001b[0m \u001b[38;5;28;01mif\u001b[39;00m \u001b[38;5;129;01mnot\u001b[39;00m (\u001b[38;5;28mself\u001b[39m\u001b[38;5;241m.\u001b[39m_backward_hooks \u001b[38;5;129;01mor\u001b[39;00m \u001b[38;5;28mself\u001b[39m\u001b[38;5;241m.\u001b[39m_backward_pre_hooks \u001b[38;5;129;01mor\u001b[39;00m \u001b[38;5;28mself\u001b[39m\u001b[38;5;241m.\u001b[39m_forward_hooks \u001b[38;5;129;01mor\u001b[39;00m \u001b[38;5;28mself\u001b[39m\u001b[38;5;241m.\u001b[39m_forward_pre_hooks\n\u001b[0;32m   1745\u001b[0m         \u001b[38;5;129;01mor\u001b[39;00m _global_backward_pre_hooks \u001b[38;5;129;01mor\u001b[39;00m _global_backward_hooks\n\u001b[0;32m   1746\u001b[0m         \u001b[38;5;129;01mor\u001b[39;00m _global_forward_hooks \u001b[38;5;129;01mor\u001b[39;00m _global_forward_pre_hooks):\n\u001b[1;32m-> 1747\u001b[0m     \u001b[38;5;28;01mreturn\u001b[39;00m forward_call(\u001b[38;5;241m*\u001b[39margs, \u001b[38;5;241m*\u001b[39m\u001b[38;5;241m*\u001b[39mkwargs)\n\u001b[0;32m   1749\u001b[0m result \u001b[38;5;241m=\u001b[39m \u001b[38;5;28;01mNone\u001b[39;00m\n\u001b[0;32m   1750\u001b[0m called_always_called_hooks \u001b[38;5;241m=\u001b[39m \u001b[38;5;28mset\u001b[39m()\n",
      "File \u001b[1;32mc:\\Users\\hardi\\OneDrive\\Desktop\\car_co\\.venv\\lib\\site-packages\\ultralytics\\nn\\modules.py:37\u001b[0m, in \u001b[0;36mConv.forward_fuse\u001b[1;34m(self, x)\u001b[0m\n\u001b[0;32m     36\u001b[0m \u001b[38;5;28;01mdef\u001b[39;00m \u001b[38;5;21mforward_fuse\u001b[39m(\u001b[38;5;28mself\u001b[39m, x):\n\u001b[1;32m---> 37\u001b[0m     \u001b[38;5;28;01mreturn\u001b[39;00m \u001b[38;5;28mself\u001b[39m\u001b[38;5;241m.\u001b[39mact(\u001b[38;5;28;43mself\u001b[39;49m\u001b[38;5;241;43m.\u001b[39;49m\u001b[43mconv\u001b[49m\u001b[43m(\u001b[49m\u001b[43mx\u001b[49m\u001b[43m)\u001b[49m)\n",
      "File \u001b[1;32mc:\\Users\\hardi\\OneDrive\\Desktop\\car_co\\.venv\\lib\\site-packages\\torch\\nn\\modules\\module.py:1736\u001b[0m, in \u001b[0;36mModule._wrapped_call_impl\u001b[1;34m(self, *args, **kwargs)\u001b[0m\n\u001b[0;32m   1734\u001b[0m     \u001b[38;5;28;01mreturn\u001b[39;00m \u001b[38;5;28mself\u001b[39m\u001b[38;5;241m.\u001b[39m_compiled_call_impl(\u001b[38;5;241m*\u001b[39margs, \u001b[38;5;241m*\u001b[39m\u001b[38;5;241m*\u001b[39mkwargs)  \u001b[38;5;66;03m# type: ignore[misc]\u001b[39;00m\n\u001b[0;32m   1735\u001b[0m \u001b[38;5;28;01melse\u001b[39;00m:\n\u001b[1;32m-> 1736\u001b[0m     \u001b[38;5;28;01mreturn\u001b[39;00m \u001b[38;5;28mself\u001b[39m\u001b[38;5;241m.\u001b[39m_call_impl(\u001b[38;5;241m*\u001b[39margs, \u001b[38;5;241m*\u001b[39m\u001b[38;5;241m*\u001b[39mkwargs)\n",
      "File \u001b[1;32mc:\\Users\\hardi\\OneDrive\\Desktop\\car_co\\.venv\\lib\\site-packages\\torch\\nn\\modules\\module.py:1747\u001b[0m, in \u001b[0;36mModule._call_impl\u001b[1;34m(self, *args, **kwargs)\u001b[0m\n\u001b[0;32m   1742\u001b[0m \u001b[38;5;66;03m# If we don't have any hooks, we want to skip the rest of the logic in\u001b[39;00m\n\u001b[0;32m   1743\u001b[0m \u001b[38;5;66;03m# this function, and just call forward.\u001b[39;00m\n\u001b[0;32m   1744\u001b[0m \u001b[38;5;28;01mif\u001b[39;00m \u001b[38;5;129;01mnot\u001b[39;00m (\u001b[38;5;28mself\u001b[39m\u001b[38;5;241m.\u001b[39m_backward_hooks \u001b[38;5;129;01mor\u001b[39;00m \u001b[38;5;28mself\u001b[39m\u001b[38;5;241m.\u001b[39m_backward_pre_hooks \u001b[38;5;129;01mor\u001b[39;00m \u001b[38;5;28mself\u001b[39m\u001b[38;5;241m.\u001b[39m_forward_hooks \u001b[38;5;129;01mor\u001b[39;00m \u001b[38;5;28mself\u001b[39m\u001b[38;5;241m.\u001b[39m_forward_pre_hooks\n\u001b[0;32m   1745\u001b[0m         \u001b[38;5;129;01mor\u001b[39;00m _global_backward_pre_hooks \u001b[38;5;129;01mor\u001b[39;00m _global_backward_hooks\n\u001b[0;32m   1746\u001b[0m         \u001b[38;5;129;01mor\u001b[39;00m _global_forward_hooks \u001b[38;5;129;01mor\u001b[39;00m _global_forward_pre_hooks):\n\u001b[1;32m-> 1747\u001b[0m     \u001b[38;5;28;01mreturn\u001b[39;00m forward_call(\u001b[38;5;241m*\u001b[39margs, \u001b[38;5;241m*\u001b[39m\u001b[38;5;241m*\u001b[39mkwargs)\n\u001b[0;32m   1749\u001b[0m result \u001b[38;5;241m=\u001b[39m \u001b[38;5;28;01mNone\u001b[39;00m\n\u001b[0;32m   1750\u001b[0m called_always_called_hooks \u001b[38;5;241m=\u001b[39m \u001b[38;5;28mset\u001b[39m()\n",
      "File \u001b[1;32mc:\\Users\\hardi\\OneDrive\\Desktop\\car_co\\.venv\\lib\\site-packages\\torch\\nn\\modules\\conv.py:554\u001b[0m, in \u001b[0;36mConv2d.forward\u001b[1;34m(self, input)\u001b[0m\n\u001b[0;32m    553\u001b[0m \u001b[38;5;28;01mdef\u001b[39;00m \u001b[38;5;21mforward\u001b[39m(\u001b[38;5;28mself\u001b[39m, \u001b[38;5;28minput\u001b[39m: Tensor) \u001b[38;5;241m-\u001b[39m\u001b[38;5;241m>\u001b[39m Tensor:\n\u001b[1;32m--> 554\u001b[0m     \u001b[38;5;28;01mreturn\u001b[39;00m \u001b[38;5;28;43mself\u001b[39;49m\u001b[38;5;241;43m.\u001b[39;49m\u001b[43m_conv_forward\u001b[49m\u001b[43m(\u001b[49m\u001b[38;5;28;43minput\u001b[39;49m\u001b[43m,\u001b[49m\u001b[43m \u001b[49m\u001b[38;5;28;43mself\u001b[39;49m\u001b[38;5;241;43m.\u001b[39;49m\u001b[43mweight\u001b[49m\u001b[43m,\u001b[49m\u001b[43m \u001b[49m\u001b[38;5;28;43mself\u001b[39;49m\u001b[38;5;241;43m.\u001b[39;49m\u001b[43mbias\u001b[49m\u001b[43m)\u001b[49m\n",
      "File \u001b[1;32mc:\\Users\\hardi\\OneDrive\\Desktop\\car_co\\.venv\\lib\\site-packages\\torch\\nn\\modules\\conv.py:549\u001b[0m, in \u001b[0;36mConv2d._conv_forward\u001b[1;34m(self, input, weight, bias)\u001b[0m\n\u001b[0;32m    537\u001b[0m \u001b[38;5;28;01mif\u001b[39;00m \u001b[38;5;28mself\u001b[39m\u001b[38;5;241m.\u001b[39mpadding_mode \u001b[38;5;241m!=\u001b[39m \u001b[38;5;124m\"\u001b[39m\u001b[38;5;124mzeros\u001b[39m\u001b[38;5;124m\"\u001b[39m:\n\u001b[0;32m    538\u001b[0m     \u001b[38;5;28;01mreturn\u001b[39;00m F\u001b[38;5;241m.\u001b[39mconv2d(\n\u001b[0;32m    539\u001b[0m         F\u001b[38;5;241m.\u001b[39mpad(\n\u001b[0;32m    540\u001b[0m             \u001b[38;5;28minput\u001b[39m, \u001b[38;5;28mself\u001b[39m\u001b[38;5;241m.\u001b[39m_reversed_padding_repeated_twice, mode\u001b[38;5;241m=\u001b[39m\u001b[38;5;28mself\u001b[39m\u001b[38;5;241m.\u001b[39mpadding_mode\n\u001b[1;32m   (...)\u001b[0m\n\u001b[0;32m    547\u001b[0m         \u001b[38;5;28mself\u001b[39m\u001b[38;5;241m.\u001b[39mgroups,\n\u001b[0;32m    548\u001b[0m     )\n\u001b[1;32m--> 549\u001b[0m \u001b[38;5;28;01mreturn\u001b[39;00m \u001b[43mF\u001b[49m\u001b[38;5;241;43m.\u001b[39;49m\u001b[43mconv2d\u001b[49m\u001b[43m(\u001b[49m\n\u001b[0;32m    550\u001b[0m \u001b[43m    \u001b[49m\u001b[38;5;28;43minput\u001b[39;49m\u001b[43m,\u001b[49m\u001b[43m \u001b[49m\u001b[43mweight\u001b[49m\u001b[43m,\u001b[49m\u001b[43m \u001b[49m\u001b[43mbias\u001b[49m\u001b[43m,\u001b[49m\u001b[43m \u001b[49m\u001b[38;5;28;43mself\u001b[39;49m\u001b[38;5;241;43m.\u001b[39;49m\u001b[43mstride\u001b[49m\u001b[43m,\u001b[49m\u001b[43m \u001b[49m\u001b[38;5;28;43mself\u001b[39;49m\u001b[38;5;241;43m.\u001b[39;49m\u001b[43mpadding\u001b[49m\u001b[43m,\u001b[49m\u001b[43m \u001b[49m\u001b[38;5;28;43mself\u001b[39;49m\u001b[38;5;241;43m.\u001b[39;49m\u001b[43mdilation\u001b[49m\u001b[43m,\u001b[49m\u001b[43m \u001b[49m\u001b[38;5;28;43mself\u001b[39;49m\u001b[38;5;241;43m.\u001b[39;49m\u001b[43mgroups\u001b[49m\n\u001b[0;32m    551\u001b[0m \u001b[43m\u001b[49m\u001b[43m)\u001b[49m\n",
      "\u001b[1;31mKeyboardInterrupt\u001b[0m: "
     ]
    }
   ],
   "source": [
    "import numpy as np\n",
    "from ultralytics import YOLO\n",
    "import cv2\n",
    "import cvzone\n",
    "import math\n",
    "from sort import *\n",
    " \n",
    "cap = cv2.VideoCapture(\"cars.mp4\")  # For Video\n",
    " \n",
    "model = YOLO(\"yolov8l.pt\")\n",
    " \n",
    "classNames = [\"person\", \"bicycle\", \"car\", \"motorbike\", \"aeroplane\", \"bus\", \"train\", \"truck\", \"boat\",\n",
    "              \"traffic light\", \"fire hydrant\", \"stop sign\", \"parking meter\", \"bench\", \"bird\", \"cat\",\n",
    "              \"dog\", \"horse\", \"sheep\", \"cow\", \"elephant\", \"bear\", \"zebra\", \"giraffe\", \"backpack\", \"umbrella\",\n",
    "              \"handbag\", \"tie\", \"suitcase\", \"frisbee\", \"skis\", \"snowboard\", \"sports ball\", \"kite\", \"baseball bat\",\n",
    "              \"baseball glove\", \"skateboard\", \"surfboard\", \"tennis racket\", \"bottle\", \"wine glass\", \"cup\",\n",
    "              \"fork\", \"knife\", \"spoon\", \"bowl\", \"banana\", \"apple\", \"sandwich\", \"orange\", \"broccoli\",\n",
    "              \"carrot\", \"hot dog\", \"pizza\", \"donut\", \"cake\", \"chair\", \"sofa\", \"pottedplant\", \"bed\",\n",
    "              \"diningtable\", \"toilet\", \"tvmonitor\", \"laptop\", \"mouse\", \"remote\", \"keyboard\", \"cell phone\",\n",
    "              \"microwave\", \"oven\", \"toaster\", \"sink\", \"refrigerator\", \"book\", \"clock\", \"vase\", \"scissors\",\n",
    "              \"teddy bear\", \"hair drier\", \"toothbrush\"\n",
    "              ]\n",
    " \n",
    "mask = cv2.imread(\"mask.png\")\n",
    " \n",
    "# Tracking\n",
    "tracker = Sort(max_age=20, min_hits=3, iou_threshold=0.3)\n",
    " \n",
    "limits = [400, 297, 673, 297]\n",
    "totalCount = []\n",
    " \n",
    "while True:\n",
    "    success, img = cap.read()\n",
    "    imgRegion = cv2.bitwise_and(img, mask)\n",
    " \n",
    "    imgGraphics = cv2.imread(\"graphics.png\", cv2.IMREAD_UNCHANGED)\n",
    "    img = cvzone.overlayPNG(img, imgGraphics, (0, 0))\n",
    "    results = model(imgRegion, stream=True)\n",
    " \n",
    "    detections = np.empty((0, 5))\n",
    " \n",
    "    for r in results:\n",
    "        boxes = r.boxes\n",
    "        for box in boxes:\n",
    "            # Bounding Box\n",
    "            x1, y1, x2, y2 = box.xyxy[0]\n",
    "            x1, y1, x2, y2 = int(x1), int(y1), int(x2), int(y2)\n",
    "            # cv2.rectangle(img,(x1,y1),(x2,y2),(255,0,255),3)\n",
    "            w, h = x2 - x1, y2 - y1\n",
    " \n",
    "            # Confidence\n",
    "            conf = math.ceil((box.conf[0] * 100)) / 100\n",
    "            # Class Name\n",
    "            cls = int(box.cls[0])\n",
    "            currentClass = classNames[cls]\n",
    " \n",
    "            if currentClass == \"car\" or currentClass == \"truck\" or currentClass == \"bus\" \\\n",
    "                    or currentClass == \"motorbike\" and conf > 0.3:\n",
    "                # cvzone.putTextRect(img, f'{currentClass} {conf}', (max(0, x1), max(35, y1)),\n",
    "                #                    scale=0.6, thickness=1, offset=3)\n",
    "                # cvzone.cornerRect(img, (x1, y1, w, h), l=9, rt=5)\n",
    "                currentArray = np.array([x1, y1, x2, y2, conf])\n",
    "                detections = np.vstack((detections, currentArray))\n",
    " \n",
    "    resultsTracker = tracker.update(detections)\n",
    " \n",
    "    cv2.line(img, (limits[0], limits[1]), (limits[2], limits[3]), (0, 0, 255), 5)\n",
    "    for result in resultsTracker:\n",
    "        x1, y1, x2, y2, id = result\n",
    "        x1, y1, x2, y2 = int(x1), int(y1), int(x2), int(y2)\n",
    "        print(result)\n",
    "        w, h = x2 - x1, y2 - y1\n",
    "        cvzone.cornerRect(img, (x1, y1, w, h), l=9, rt=2, colorR=(255, 0, 255))\n",
    "        cvzone.putTextRect(img, f' {int(id)}', (max(0, x1), max(35, y1)),\n",
    "                           scale=2, thickness=3, offset=10)\n",
    " \n",
    "        cx, cy = x1 + w // 2, y1 + h // 2\n",
    "        cv2.circle(img, (cx, cy), 5, (255, 0, 255), cv2.FILLED)\n",
    " \n",
    "        if limits[0] < cx < limits[2] and limits[1] - 15 < cy < limits[1] + 15:\n",
    "            if totalCount.count(id) == 0:\n",
    "                totalCount.append(id)\n",
    "                cv2.line(img, (limits[0], limits[1]), (limits[2], limits[3]), (0, 255, 0), 5)\n",
    " \n",
    "    # cvzone.putTextRect(img, f' Count: {len(totalCount)}', (50, 50))\n",
    "    cv2.putText(img,str(len(totalCount)),(255,100),cv2.FONT_HERSHEY_PLAIN,5,(50,50,255),8)\n",
    " \n",
    "    cv2.imshow(\"Image\", img)\n",
    "    # cv2.imshow(\"ImageRegion\", imgRegion)\n",
    "    cv2.waitKey(1)"
   ]
  },
  {
   "cell_type": "code",
   "execution_count": null,
   "metadata": {},
   "outputs": [],
   "source": []
  }
 ],
 "metadata": {
  "kernelspec": {
   "display_name": ".venv",
   "language": "python",
   "name": "python3"
  },
  "language_info": {
   "codemirror_mode": {
    "name": "ipython",
    "version": 3
   },
   "file_extension": ".py",
   "mimetype": "text/x-python",
   "name": "python",
   "nbconvert_exporter": "python",
   "pygments_lexer": "ipython3",
   "version": "3.9.0"
  }
 },
 "nbformat": 4,
 "nbformat_minor": 2
}
